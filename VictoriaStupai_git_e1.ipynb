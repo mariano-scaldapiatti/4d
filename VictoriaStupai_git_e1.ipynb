{
  "nbformat": 4,
  "nbformat_minor": 0,
  "metadata": {
    "colab": {
      "name": "VictoriaStupai_git-e1.ipynb",
      "version": "0.3.2",
      "provenance": [],
      "collapsed_sections": [],
      "include_colab_link": true
    },
    "kernelspec": {
      "name": "python3",
      "display_name": "Python 3"
    }
  },
  "cells": [
    {
      "cell_type": "markdown",
      "metadata": {
        "id": "view-in-github",
        "colab_type": "text"
      },
      "source": [
        "<a href=\"https://colab.research.google.com/github/mariano-scaldapiatti/4d/blob/master/VictoriaStupai_git_e1.ipynb\" target=\"_parent\"><img src=\"https://colab.research.google.com/assets/colab-badge.svg\" alt=\"Open In Colab\"/></a>"
      ]
    },
    {
      "metadata": {
        "id": "oDPd5Oei0FFH",
        "colab_type": "text"
      },
      "cell_type": "markdown",
      "source": [
        "### Esercizio\n",
        "\n",
        "#### Breve esercitazione su git\n",
        "\n",
        "Eseguire i seguenti passi (**una** cella di tipo CODE per passo allegando anche l'**output**):\n",
        "\n",
        "0. costruisci una cella per il ripristino dell'ambiente;\n",
        "1. configura utente ed email;\n",
        "2. verifica l'esecuzione del passo precedente;\n",
        "3. costruisci una directory di nome `primoGit`, entraci e inizializza il repository;\n",
        "4. costruisci un file di nome `primoSorgente.py` con all'interno la scritta `\"import random\"`;\n",
        "5. inserisci il file del passo precedente nel repository;\n",
        "6. stampa lo stato del repository;\n",
        "7. ordina il commit con il messaggio \"il modulo random è obbligatorio per il lancio casuale dei dadi\";\n",
        "8. stampa lo stato del repository.\n",
        "\n",
        "\n"
      ]
    },
    {
      "metadata": {
        "id": "D9OTJCkuiRlN",
        "colab_type": "code",
        "outputId": "3e28063f-8d8e-4aa0-e549-348af4ec1f1d",
        "colab": {
          "base_uri": "https://localhost:8080/",
          "height": 34
        }
      },
      "cell_type": "code",
      "source": [
        "#0\n",
        "% cd\n",
        "% rm -rf primoGIT"
      ],
      "execution_count": 0,
      "outputs": [
        {
          "output_type": "stream",
          "text": [
            "/root\n"
          ],
          "name": "stdout"
        }
      ]
    },
    {
      "metadata": {
        "id": "JQhGY1vsiZe2",
        "colab_type": "code",
        "colab": {}
      },
      "cell_type": "code",
      "source": [
        "#1\n",
        "%%bash\n",
        "git config --global user.name \"Victoria Stupai\"\n",
        "git config --global user.email \"victoria.stupai@liceomorin.it\""
      ],
      "execution_count": 0,
      "outputs": []
    },
    {
      "metadata": {
        "id": "etKMCUNSiid2",
        "colab_type": "code",
        "outputId": "df3291dc-e0d1-422f-cb1e-a43db6622d9a",
        "colab": {
          "base_uri": "https://localhost:8080/",
          "height": 51
        }
      },
      "cell_type": "code",
      "source": [
        "#2\n",
        "! git config --list\n"
      ],
      "execution_count": 0,
      "outputs": [
        {
          "output_type": "stream",
          "text": [
            "user.name=Victoria Stupai\n",
            "user.email=victoria.stupai@liceomorin.it\n"
          ],
          "name": "stdout"
        }
      ]
    },
    {
      "metadata": {
        "id": "T1otbzFCipDe",
        "colab_type": "code",
        "outputId": "7b0ca07e-dae9-484f-9d8e-31ab23364006",
        "colab": {
          "base_uri": "https://localhost:8080/",
          "height": 51
        }
      },
      "cell_type": "code",
      "source": [
        "#3\n",
        "% mkdir primoGIT\n",
        "% cd primoGIT\n",
        "! git init"
      ],
      "execution_count": 0,
      "outputs": [
        {
          "output_type": "stream",
          "text": [
            "/root/primoGIT\n",
            "Initialized empty Git repository in /root/primoGIT/.git/\n"
          ],
          "name": "stdout"
        }
      ]
    },
    {
      "metadata": {
        "id": "XsIoTMzUivNo",
        "colab_type": "code",
        "colab": {}
      },
      "cell_type": "code",
      "source": [
        "#4\n",
        "! echo \"import random\" > primoSorgente.py"
      ],
      "execution_count": 0,
      "outputs": []
    },
    {
      "metadata": {
        "id": "lfcJ_N57iyLa",
        "colab_type": "code",
        "colab": {}
      },
      "cell_type": "code",
      "source": [
        "#5\n",
        "! git add primoSorgente.py"
      ],
      "execution_count": 0,
      "outputs": []
    },
    {
      "metadata": {
        "id": "_Ujiu2joi2-W",
        "colab_type": "code",
        "outputId": "dd67e976-39ad-4e06-b383-9e60db8c41ec",
        "colab": {
          "base_uri": "https://localhost:8080/",
          "height": 170
        }
      },
      "cell_type": "code",
      "source": [
        "#6\n",
        "! git status"
      ],
      "execution_count": 0,
      "outputs": [
        {
          "output_type": "stream",
          "text": [
            "On branch master\n",
            "\n",
            "No commits yet\n",
            "\n",
            "Changes to be committed:\n",
            "  (use \"git rm --cached <file>...\" to unstage)\n",
            "\n",
            "\t\u001b[32mnew file:   primoSorgente.py\u001b[m\n",
            "\n"
          ],
          "name": "stdout"
        }
      ]
    },
    {
      "metadata": {
        "id": "B9QV0yxgi94r",
        "colab_type": "code",
        "outputId": "f4849d70-6b0e-4107-8245-4f1af5a57be4",
        "colab": {
          "base_uri": "https://localhost:8080/",
          "height": 68
        }
      },
      "cell_type": "code",
      "source": [
        "#7\n",
        "! git commit -m \"il modulo random è obbligatorio per il lancio casuale dei dad\""
      ],
      "execution_count": 0,
      "outputs": [
        {
          "output_type": "stream",
          "text": [
            "[master (root-commit) f4f9d4b] il modulo random è obbligatorio per il lancio casuale dei dad\n",
            " 1 file changed, 1 insertion(+)\n",
            " create mode 100644 primoSorgente.py\n"
          ],
          "name": "stdout"
        }
      ]
    },
    {
      "metadata": {
        "id": "ReQA29PzjAFS",
        "colab_type": "code",
        "outputId": "41d7c97b-0378-4969-d209-9c1742700938",
        "colab": {
          "base_uri": "https://localhost:8080/",
          "height": 51
        }
      },
      "cell_type": "code",
      "source": [
        "#8\n",
        "! git status"
      ],
      "execution_count": 0,
      "outputs": [
        {
          "output_type": "stream",
          "text": [
            "On branch master\n",
            "nothing to commit, working tree clean\n"
          ],
          "name": "stdout"
        }
      ]
    }
  ]
}