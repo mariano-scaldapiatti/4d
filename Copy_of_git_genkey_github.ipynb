{
  "nbformat": 4,
  "nbformat_minor": 0,
  "metadata": {
    "colab": {
      "name": "Copy of git-genkey-github.ipynb",
      "version": "0.3.2",
      "provenance": [],
      "collapsed_sections": [],
      "include_colab_link": true
    },
    "kernelspec": {
      "name": "python3",
      "display_name": "Python 3"
    }
  },
  "cells": [
    {
      "cell_type": "markdown",
      "metadata": {
        "id": "view-in-github",
        "colab_type": "text"
      },
      "source": [
        "<a href=\"https://colab.research.google.com/github/mariano-scaldapiatti/4d/blob/master/Copy_of_git_genkey_github.ipynb\" target=\"_parent\"><img src=\"https://colab.research.google.com/assets/colab-badge.svg\" alt=\"Open In Colab\"/></a>"
      ]
    },
    {
      "metadata": {
        "id": "e_hM0ZHxtevC",
        "colab_type": "text"
      },
      "cell_type": "markdown",
      "source": [
        "### Generazione della chiave SSH"
      ]
    },
    {
      "metadata": {
        "id": "sRYEnSy2ikx-",
        "colab_type": "code",
        "outputId": "e90336bb-40e5-4d39-de12-b455910cd44b",
        "colab": {
          "base_uri": "https://localhost:8080/",
          "height": 535
        }
      },
      "cell_type": "code",
      "source": [
        "# cella di (ri-)generazione chiave (privata e pubblica)\n",
        "% rm -rf /root/.ssh\n",
        "% mkdir /root/.ssh\n",
        "! ssh-keygen -t rsa -b 4096 -C \"stupai.victoria@gmail.com\"\n",
        "! ssh-keyscan github.com >> /root/.ssh/known_hosts\n",
        "# verifichiamo la presenza delle due chiavi (files)\n",
        "% ls -la /root/.ssh"
      ],
      "execution_count": 0,
      "outputs": [
        {
          "output_type": "stream",
          "text": [
            "Generating public/private rsa key pair.\n",
            "Enter file in which to save the key (/root/.ssh/id_rsa): \n",
            "Enter passphrase (empty for no passphrase): \n",
            "Enter same passphrase again: \n",
            "Your identification has been saved in /root/.ssh/id_rsa.\n",
            "Your public key has been saved in /root/.ssh/id_rsa.pub.\n",
            "The key fingerprint is:\n",
            "SHA256:l5iGrlOLMFofHBdmZ3gKircveD/brSf1RR6IczTk8Z0 stupai.victoria@gmail.com\n",
            "The key's randomart image is:\n",
            "+---[RSA 4096]----+\n",
            "|       . .o      |\n",
            "|    . = +.oo . . |\n",
            "| . . + * o.o. E  |\n",
            "|. o . o.ooo.o    |\n",
            "| . o o. Sooo .   |\n",
            "|  = o.....  o    |\n",
            "| + = +.o . .     |\n",
            "|o o *oo.. .      |\n",
            "| . o++o+.        |\n",
            "+----[SHA256]-----+\n",
            "# github.com:22 SSH-2.0-babeld-9db747ba\n",
            "# github.com:22 SSH-2.0-babeld-9db747ba\n",
            "# github.com:22 SSH-2.0-babeld-9db747ba\n",
            "total 24\n",
            "drwxr-xr-x 2 root root 4096 Feb  4 11:00 \u001b[0m\u001b[01;34m.\u001b[0m/\n",
            "drwx------ 1 root root 4096 Feb  4 10:59 \u001b[01;34m..\u001b[0m/\n",
            "-rw------- 1 root root 3243 Feb  4 11:00 id_rsa\n",
            "-rw-r--r-- 1 root root  751 Feb  4 11:00 id_rsa.pub\n",
            "-rw-r--r-- 1 root root  392 Feb  4 11:00 known_hosts\n"
          ],
          "name": "stdout"
        }
      ]
    },
    {
      "metadata": {
        "id": "VbCpqbpAbcny",
        "colab_type": "text"
      },
      "cell_type": "markdown",
      "source": [
        "### Aggiunta chiave pubblica tra le chiavi su github\n",
        "\n",
        "Generata la chiave (pubblica e privata) occorre riportare la chiave **pubblica** all'interno della configurazione di github in modo da permettere l'accesso della cella di colab al repository di github."
      ]
    },
    {
      "metadata": {
        "id": "StAJU_YRjN5p",
        "colab_type": "code",
        "outputId": "eec7bf93-fbaf-41fe-e443-005575ef286b",
        "colab": {
          "base_uri": "https://localhost:8080/",
          "height": 55
        }
      },
      "cell_type": "code",
      "source": [
        "# visualizzazione della chiave pubblica per poter fare copy & paste per github\n",
        "! cat /root/.ssh/id_rsa.pub"
      ],
      "execution_count": 0,
      "outputs": [
        {
          "output_type": "stream",
          "text": [
            "ssh-rsa AAAAB3NzaC1yc2EAAAADAQABAAACAQC5OlU00T5TcdMufUKCHzgkaxJs+rFXcRtuGNfUXs8fjP76t6eA+vfUrBzq83sPEJU7qNWeptd8NDeOkF8BevhQWbq43fFDZneBEgU6O7/dPcxs1sjp1ZNwbC39dZhjqmnd9XFMV4K54nI5FUqfmUBo4mrDZonGsR5piUbEh4auXAbqwALQ8SQOgw0qkvSGLS1+oTT1Mg1A1pPKDl+Vb2PyBdg8k+Oxyj85jkm9EClBd9yXAHZTa6eVy8VOw4VakL+8CQ2hb14/T14f4m7Pve7E65dRZlmDe5ClDngkMK1F3FtTCFO8K0fPHcA2i0zU4yQCNeGSAO9dGQ9QdIDLeXp/hXl6eSRamhI+43jur81Ek5c0EoK9TCtN4N2UlcgbrNoJadSrB3iLDlqxyZCvEJMvSNBiNyuVT8nfOJRMba5WssKxdchPuIXZuazWluPJ9DQCRTaD5ZkBRwhSgLHBavRMBOYf7/KivwpIJTT8TDEN5eBEQMj/2vE1rDvwaQvYqejzJCa3cF2IzvK1U4YnYH9+Fs0+HX+yb97G2NoxVvoR1BTOjW4m6PnGiAE7WH5NA80vDatCa4SfbkNd7qWDeTSv9n5cRcHvXpV7Fi+zqEM6usXr/Z4yuz4Lwmt0Er1qlfDaorAh4v+Mi6ogiZKebxHjFkAOGNeJZWlUI1inJ1doOw== stupai.victoria@gmail.com\n"
          ],
          "name": "stdout"
        }
      ]
    },
    {
      "metadata": {
        "id": "rSX-x3t7r8IF",
        "colab_type": "text"
      },
      "cell_type": "markdown",
      "source": [
        "Ora accediamo a github.com con il nostro account e proseguiamo selezionando:"
      ]
    },
    {
      "metadata": {
        "id": "xA9tQFPrrl7G",
        "colab_type": "code",
        "outputId": "a37b9dc3-6d24-4c0e-bbb9-e8ecf1076803",
        "colab": {
          "base_uri": "https://localhost:8080/",
          "height": 392
        }
      },
      "cell_type": "code",
      "source": [
        "from IPython.display import Image\n",
        "Image(url='https://raw.githubusercontent.com/sdoro/images/master/git/settings.png')"
      ],
      "execution_count": 0,
      "outputs": [
        {
          "output_type": "execute_result",
          "data": {
            "text/html": [
              "<img src=\"https://raw.githubusercontent.com/sdoro/images/master/git/settings.png\"/>"
            ],
            "text/plain": [
              "<IPython.core.display.Image object>"
            ]
          },
          "metadata": {
            "tags": []
          },
          "execution_count": 1
        }
      ]
    },
    {
      "metadata": {
        "id": "IS_r5PL_sPM6",
        "colab_type": "text"
      },
      "cell_type": "markdown",
      "source": [
        "Proseguiamo selezionando la voce di menu:"
      ]
    },
    {
      "metadata": {
        "id": "RjDwzqHMsV2b",
        "colab_type": "code",
        "outputId": "8ff1885a-7196-440b-9a7f-18d990cd51c4",
        "colab": {
          "base_uri": "https://localhost:8080/",
          "height": 339
        }
      },
      "cell_type": "code",
      "source": [
        "from IPython.display import Image\n",
        "Image(url='https://raw.githubusercontent.com/sdoro/images/master/git/SSHkeys.png')"
      ],
      "execution_count": 0,
      "outputs": [
        {
          "output_type": "execute_result",
          "data": {
            "text/html": [
              "<img src=\"https://raw.githubusercontent.com/sdoro/images/master/git/SSHkeys.png\"/>"
            ],
            "text/plain": [
              "<IPython.core.display.Image object>"
            ]
          },
          "metadata": {
            "tags": []
          },
          "execution_count": 3
        }
      ]
    },
    {
      "metadata": {
        "id": "wzThoCTstytO",
        "colab_type": "text"
      },
      "cell_type": "markdown",
      "source": [
        "e selezioniamo il bottone \"New SSH key\" dove metteremo un nome a nostra scelta nel primo campo (Title) e la chiave pubblica copiata da colab nel secondo campo (Key):"
      ]
    },
    {
      "metadata": {
        "id": "jgU50xnEuETq",
        "colab_type": "code",
        "outputId": "5b3708c5-4189-4f43-f5fa-84f44fa6ea86",
        "colab": {
          "base_uri": "https://localhost:8080/",
          "height": 458
        }
      },
      "cell_type": "code",
      "source": [
        "from IPython.display import Image\n",
        "Image(url='https://raw.githubusercontent.com/sdoro/images/master/git/addkey.png')"
      ],
      "execution_count": 0,
      "outputs": [
        {
          "output_type": "execute_result",
          "data": {
            "text/html": [
              "<img src=\"https://raw.githubusercontent.com/sdoro/images/master/git/addkey.png\"/>"
            ],
            "text/plain": [
              "<IPython.core.display.Image object>"
            ]
          },
          "metadata": {
            "tags": []
          },
          "execution_count": 4
        }
      ]
    },
    {
      "metadata": {
        "id": "KcYoIAGhGkzt",
        "colab_type": "text"
      },
      "cell_type": "markdown",
      "source": [
        "### Verifica del funzionamento della chiave\n",
        "\n",
        "La verifica passa per generare (o utilizzare) un proprio repository (o un repository dove è memorizzata la nostra chiave pubblica) e seguire i seguenti passi:\n",
        "\n",
        "1. configurazione per git di nome utente e dell'indirizzo utente;\n",
        "2. generazione su github un repository con anche il file `README.md`; In questo caso il nome del repository è **provaColab** e con l'utente **sdoro**. Per sperimentare gli stessi comandi vanno **sostituiti entrambi** con i vostri particolari.\n",
        "3. selezionare il [bottone download](https://raw.githubusercontent.com/sdoro/images/master/git/cloneButton.png) e proseguire selezionando il [testo](https://raw.githubusercontent.com/sdoro/images/master/git/cloneButtonExpanded.png) dove è molto importante selezionare **Clone with SSH**;\n",
        "4. dare in colab il comando `! git clone git@github.com:sdoro/provaColab.git` (sostituendo il nome del repository con il vostro).\n"
      ]
    },
    {
      "metadata": {
        "id": "NbWRXqUASMUE",
        "colab_type": "code",
        "outputId": "e8fbb141-8817-4da9-87fa-9b9dd7637ce8",
        "colab": {
          "base_uri": "https://localhost:8080/",
          "height": 53
        }
      },
      "cell_type": "code",
      "source": [
        "# Passo1: configurazione dell'utente\n",
        "%%bash\n",
        "git config --global user.name \"Victoria Stupai\"\n",
        "git config --global user.email \"stupai.victoria@gmail.com\"\n",
        "git config --list"
      ],
      "execution_count": 0,
      "outputs": [
        {
          "output_type": "stream",
          "text": [
            "user.name=Victoria Stupai\n",
            "user.email=stupai.victoria@gmail.com\n"
          ],
          "name": "stdout"
        }
      ]
    },
    {
      "metadata": {
        "id": "Dj4kUBm5QGp6",
        "colab_type": "code",
        "outputId": "3184d4d7-f0ce-4a03-9b66-03f2795c1e8b",
        "colab": {
          "base_uri": "https://localhost:8080/",
          "height": 170
        }
      },
      "cell_type": "code",
      "source": [
        "# Passo 4: cella di pulizia lavori precedenti e clone del repository\n",
        "% cd\n",
        "% rm -rf provaColab\n",
        "#! git clone https://github.com/sdoro/tt.git\n",
        "! git clone git@github.com:mariano-scaldapiatti/provaColab.git"
      ],
      "execution_count": 0,
      "outputs": [
        {
          "output_type": "stream",
          "text": [
            "/root\n",
            "Cloning into 'provaColab'...\n",
            "Warning: Permanently added the RSA host key for IP address '192.30.255.113' to the list of known hosts.\n",
            "remote: Enumerating objects: 13, done.\u001b[K\n",
            "remote: Counting objects: 100% (13/13), done.\u001b[K\n",
            "remote: Compressing objects: 100% (7/7), done.\u001b[K\n",
            "remote: Total 13 (delta 3), reused 9 (delta 2), pack-reused 0\u001b[K\n",
            "Receiving objects: 100% (13/13), done.\n",
            "Resolving deltas: 100% (3/3), done.\n"
          ],
          "name": "stdout"
        }
      ]
    },
    {
      "metadata": {
        "id": "F2wMisG4r9uG",
        "colab_type": "text"
      },
      "cell_type": "markdown",
      "source": [
        "Da questo momento avete una copia locale del repository remoto. Per prova facciamo in locale delle modifiche che al termine riportiamo nel repository remoto:\n",
        "\n",
        "1. `% cd provaColab`\n",
        "2. `! echo \"<--- questo è un commento --->\" >> README.md`\n",
        "3. `! git add README.md`\n",
        "4. `! git commit -m \"Just a comment!\"`\n",
        "5. `! git push`\n",
        "\n",
        "dove al passo 1 ci posizioniamo all'interno del repository, al 2 generiamo un commento HTML, al 3 informiamo git di voler considerare `README.md` un file \"importante\" e al passo 4 registriamo nel repository la modifica. Al passo 5 riportiamo le variazioni al repository remoto."
      ]
    },
    {
      "metadata": {
        "id": "b7Zc5InfQK9N",
        "colab_type": "code",
        "outputId": "d5b99e1e-2d04-49fa-e738-21f1c0cd0f71",
        "colab": {
          "base_uri": "https://localhost:8080/",
          "height": 68
        }
      },
      "cell_type": "code",
      "source": [
        "# cella di verifica del contenuto\n",
        "% cd provaColab\n",
        "% cat README.md"
      ],
      "execution_count": 0,
      "outputs": [
        {
          "output_type": "stream",
          "text": [
            "/root/provaColab\n",
            "# provaColab\n",
            "Repository di prova di accesso da Google Colaboratory\n"
          ],
          "name": "stdout"
        }
      ]
    },
    {
      "metadata": {
        "id": "8TZ_gF6vRbsi",
        "colab_type": "code",
        "outputId": "c0a6f9aa-c7bd-4308-a1b3-5bbc43868ae8",
        "colab": {
          "base_uri": "https://localhost:8080/",
          "height": 187
        }
      },
      "cell_type": "code",
      "source": [
        "# cella di modifica del contenuto\n",
        "! echo \"<--- questo è un commento --->\" >> README.md\n",
        "! git status"
      ],
      "execution_count": 0,
      "outputs": [
        {
          "output_type": "stream",
          "text": [
            "On branch master\n",
            "Your branch is up to date with 'origin/master'.\n",
            "\n",
            "Changes not staged for commit:\n",
            "  (use \"git add <file>...\" to update what will be committed)\n",
            "  (use \"git checkout -- <file>...\" to discard changes in working directory)\n",
            "\n",
            "\t\u001b[31mmodified:   README.md\u001b[m\n",
            "\n",
            "no changes added to commit (use \"git add\" and/or \"git commit -a\")\n"
          ],
          "name": "stdout"
        }
      ]
    },
    {
      "metadata": {
        "id": "CL2D5y4MRwSr",
        "colab_type": "code",
        "outputId": "b221bd48-c4b6-449d-f78b-1a58d3aa47af",
        "colab": {
          "base_uri": "https://localhost:8080/",
          "height": 153
        }
      },
      "cell_type": "code",
      "source": [
        "# cella di visualizzazione delle modifiche\n",
        "! git diff"
      ],
      "execution_count": 0,
      "outputs": [
        {
          "output_type": "stream",
          "text": [
            "\u001b[1mdiff --git a/README.md b/README.md\u001b[m\n",
            "\u001b[1mindex 8b978fd..22e638f 100644\u001b[m\n",
            "\u001b[1m--- a/README.md\u001b[m\n",
            "\u001b[1m+++ b/README.md\u001b[m\n",
            "\u001b[36m@@ -1,2 +1,3 @@\u001b[m\n",
            " # provaColab\u001b[m\n",
            " Repository di prova di accesso da Google Colaboratory\u001b[m\n",
            "\u001b[32m+\u001b[m\u001b[32m<--- questo è un commento --->\u001b[m\n"
          ],
          "name": "stdout"
        }
      ]
    },
    {
      "metadata": {
        "id": "f_gOJx0_RwbZ",
        "colab_type": "code",
        "outputId": "3d2cb560-98b5-40eb-dc35-f3492a55a0cb",
        "colab": {
          "base_uri": "https://localhost:8080/",
          "height": 51
        }
      },
      "cell_type": "code",
      "source": [
        "# cella di registrazione del file sul repository (locale) e di commit\n",
        "! git add README.md\n",
        "! git commit -m \"Just a comment!\""
      ],
      "execution_count": 0,
      "outputs": [
        {
          "output_type": "stream",
          "text": [
            "[master a7f9b4b] Just a comment!\n",
            " 1 file changed, 1 insertion(+)\n"
          ],
          "name": "stdout"
        }
      ]
    },
    {
      "metadata": {
        "id": "ssT8cGuBSS9r",
        "colab_type": "code",
        "outputId": "fbb82f55-4bd6-4451-ef15-72f7f6d7b509",
        "colab": {
          "base_uri": "https://localhost:8080/",
          "height": 153
        }
      },
      "cell_type": "code",
      "source": [
        "# cella di upload delle modifiche sul repository remoto\n",
        "! git push"
      ],
      "execution_count": 0,
      "outputs": [
        {
          "output_type": "stream",
          "text": [
            "Warning: Permanently added the RSA host key for IP address '192.30.255.112' to the list of known hosts.\r\n",
            "Counting objects: 3, done.\n",
            "Delta compression using up to 2 threads.\n",
            "Compressing objects:  50% (1/2)   \rCompressing objects: 100% (2/2)   \rCompressing objects: 100% (2/2), done.\n",
            "Writing objects:  33% (1/3)   \rWriting objects:  66% (2/3)   \rWriting objects: 100% (3/3)   \rWriting objects: 100% (3/3), 334 bytes | 334.00 KiB/s, done.\n",
            "Total 3 (delta 0), reused 0 (delta 0)\n",
            "To github.com:sdoro/provaColab.git\n",
            "   5549fa2..a7f9b4b  master -> master\n"
          ],
          "name": "stdout"
        }
      ]
    }
  ]
}