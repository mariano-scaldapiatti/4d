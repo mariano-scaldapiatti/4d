{
  "nbformat": 4,
  "nbformat_minor": 0,
  "metadata": {
    "colab": {
      "name": "GIT.ipynb",
      "version": "0.3.2",
      "provenance": [],
      "collapsed_sections": [],
      "include_colab_link": true
    },
    "kernelspec": {
      "name": "python3",
      "display_name": "Python 3"
    }
  },
  "cells": [
    {
      "cell_type": "markdown",
      "metadata": {
        "id": "view-in-github",
        "colab_type": "text"
      },
      "source": [
        "<a href=\"https://colab.research.google.com/github/mariano-scaldapiatti/4d/blob/master/GIT.ipynb\" target=\"_parent\"><img src=\"https://colab.research.google.com/assets/colab-badge.svg\" alt=\"Open In Colab\"/></a>"
      ]
    },
    {
      "metadata": {
        "id": "SQv6C7iaAL7x",
        "colab_type": "text"
      },
      "cell_type": "markdown",
      "source": [
        "# Principi base e terminologia di RSC\n",
        "\n",
        "\n",
        "fork= divisione -> procedere con uno dei software dei merge\n",
        "\n",
        "! find .   -> (il punto è un alias della cartella in cui mi trovo, se per esempio mi trovo nella cartella small il 'punto' mi trova la cartella small)\n",
        "\n",
        "\n",
        "! git commit -m (-m = messaggio) -> salvataggio\n",
        "\n",
        "https://git-scm.com/book/en/v2/Git-Basics-Recording-Changes-to-the-Repository"
      ]
    },
    {
      "metadata": {
        "id": "wZJiEKAZkd-i",
        "colab_type": "text"
      },
      "cell_type": "markdown",
      "source": [
        "github.com"
      ]
    }
  ]
}