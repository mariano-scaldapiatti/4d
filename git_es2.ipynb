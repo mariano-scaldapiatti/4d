{
  "nbformat": 4,
  "nbformat_minor": 0,
  "metadata": {
    "colab": {
      "name": "git-es2.ipynb",
      "version": "0.3.2",
      "provenance": [],
      "collapsed_sections": [],
      "include_colab_link": true
    },
    "kernelspec": {
      "name": "python3",
      "display_name": "Python 3"
    }
  },
  "cells": [
    {
      "cell_type": "markdown",
      "metadata": {
        "id": "view-in-github",
        "colab_type": "text"
      },
      "source": [
        "<a href=\"https://colab.research.google.com/github/mariano-scaldapiatti/4d/blob/master/git_es2.ipynb\" target=\"_parent\"><img src=\"https://colab.research.google.com/assets/colab-badge.svg\" alt=\"Open In Colab\"/></a>"
      ]
    },
    {
      "metadata": {
        "id": "oDPd5Oei0FFH",
        "colab_type": "text"
      },
      "cell_type": "markdown",
      "source": [
        "### Esercizio\n",
        "\n",
        "#### Esercitazione su git branch\n",
        "\n",
        "Realizzare l'insieme di step rappresentati dal diagramma in basso utilizzando per semplicità un repository composto da un solo file di nome `file.txt` su cui simuliamo delle variazioni. Le variazioni all'interno del file sono simulate da numeri in sequenza a partire da ZERO. Le etichette di tipo CNN sono il messaggio associato ad ogni `git commit`.\n",
        "Ricordiamo che per selezionare un branch **già esistente** il comando è `git checkout NomeBranch`.\n",
        "\n",
        "Consegnare in una cella di tipo CODE i comandi necessari per ottenere la sequenza di ramificazione rappresentata.\n",
        "\n",
        "\n"
      ]
    },
    {
      "metadata": {
        "id": "J0g06Q16JT7n",
        "colab_type": "code",
        "outputId": "d50500e9-8a08-42eb-c858-abf90d0e3187",
        "colab": {
          "base_uri": "https://localhost:8080/",
          "height": 354
        }
      },
      "cell_type": "code",
      "source": [
        "from IPython.display import Image\n",
        "Image(url='https://raw.githubusercontent.com/sdoro/images/master/git/branching-02.png')"
      ],
      "execution_count": 0,
      "outputs": [
        {
          "output_type": "execute_result",
          "data": {
            "text/html": [
              "<img src=\"https://raw.githubusercontent.com/sdoro/images/master/git/branching-02.png\"/>"
            ],
            "text/plain": [
              "<IPython.core.display.Image object>"
            ]
          },
          "metadata": {
            "tags": []
          },
          "execution_count": 1
        }
      ]
    }
  ]
}