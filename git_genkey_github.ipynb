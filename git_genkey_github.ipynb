{
  "nbformat": 4,
  "nbformat_minor": 0,
  "metadata": {
    "colab": {
      "name": "git-genkey-github.ipynb",
      "version": "0.3.2",
      "provenance": [],
      "collapsed_sections": [],
      "toc_visible": true,
      "include_colab_link": true
    },
    "kernelspec": {
      "name": "python3",
      "display_name": "Python 3"
    }
  },
  "cells": [
    {
      "cell_type": "markdown",
      "metadata": {
        "id": "view-in-github",
        "colab_type": "text"
      },
      "source": [
        "<a href=\"https://colab.research.google.com/github/mariano-scaldapiatti/4d/blob/master/git_genkey_github.ipynb\" target=\"_parent\"><img src=\"https://colab.research.google.com/assets/colab-badge.svg\" alt=\"Open In Colab\"/></a>"
      ]
    },
    {
      "metadata": {
        "id": "e_hM0ZHxtevC",
        "colab_type": "text"
      },
      "cell_type": "markdown",
      "source": [
        "### Generazione della chiave SSH"
      ]
    },
    {
      "metadata": {
        "id": "sRYEnSy2ikx-",
        "colab_type": "code",
        "outputId": "5136cba1-4223-4449-b399-e2f771eb99dc",
        "colab": {
          "base_uri": "https://localhost:8080/",
          "height": 530
        }
      },
      "cell_type": "code",
      "source": [
        "# cella di (ri-)generazione chiave (privata e pubblica)\n",
        "% rm -rf /root/.ssh\n",
        "% mkdir /root/.ssh\n",
        "! ssh-keygen -t rsa -b 4096 -C \"sandro.doro@gmail.com\"\n",
        "! ssh-keyscan github.com >> /root/.ssh/known_hosts\n",
        "# verifichiamo la presenza delle due chiavi (files)\n",
        "% ls -la /root/.ssh"
      ],
      "execution_count": 0,
      "outputs": [
        {
          "output_type": "stream",
          "text": [
            "Generating public/private rsa key pair.\n",
            "Enter file in which to save the key (/root/.ssh/id_rsa): \n",
            "Enter passphrase (empty for no passphrase): \n",
            "Enter same passphrase again: \n",
            "Your identification has been saved in /root/.ssh/id_rsa.\n",
            "Your public key has been saved in /root/.ssh/id_rsa.pub.\n",
            "The key fingerprint is:\n",
            "SHA256:c8vdc8r8mjOMy97x25voHWhX6R9CjM/MYGfJY4i2QqE sandro.doro@gmail.com\n",
            "The key's randomart image is:\n",
            "+---[RSA 4096]----+\n",
            "|                 |\n",
            "|                 |\n",
            "|       .         |\n",
            "|      . . . = . .|\n",
            "|     E .So.= X ..|\n",
            "|      . .+oo@.+ .|\n",
            "|       . .o .@+=.|\n",
            "|        .  .o+OB*|\n",
            "|           .=+BXB|\n",
            "+----[SHA256]-----+\n",
            "# github.com:22 SSH-2.0-babeld-26093308\n",
            "# github.com:22 SSH-2.0-babeld-26093308\n",
            "# github.com:22 SSH-2.0-babeld-26093308\n",
            "total 24\n",
            "drwxr-xr-x 2 root root 4096 Feb 11 10:37 \u001b[0m\u001b[01;34m.\u001b[0m/\n",
            "drwx------ 1 root root 4096 Feb 11 10:37 \u001b[01;34m..\u001b[0m/\n",
            "-rw------- 1 root root 3243 Feb 11 10:37 id_rsa\n",
            "-rw-r--r-- 1 root root  747 Feb 11 10:37 id_rsa.pub\n",
            "-rw-r--r-- 1 root root  392 Feb 11 10:37 known_hosts\n"
          ],
          "name": "stdout"
        }
      ]
    },
    {
      "metadata": {
        "id": "p_BHohaN2EIT",
        "colab_type": "code",
        "outputId": "11c6358b-cf6b-4ce0-ebc6-e9be8ea870a0",
        "colab": {
          "base_uri": "https://localhost:8080/",
          "height": 34
        }
      },
      "cell_type": "code",
      "source": [
        "# salvataggio nel file /tmp/ssh.tar.gz dell'intera directory di nome /root/.ssh\n",
        "! tar czf /tmp/ssh.tar.gz /root/.ssh"
      ],
      "execution_count": 0,
      "outputs": [
        {
          "output_type": "stream",
          "text": [
            "tar: Removing leading `/' from member names\n"
          ],
          "name": "stdout"
        }
      ]
    },
    {
      "metadata": {
        "id": "qIlS0REV2f8K",
        "colab_type": "text"
      },
      "cell_type": "markdown",
      "source": [
        "### Salvare la coppia di chiavi (download)\n",
        "\n",
        "Per salvare in locale il file appena generato (`/tmp/ssh.tar.gz`) si apre il pannello a sx della finesta del browser (>);  poi si seleziona il tab `Files` e si seleziona con un doppio click `..` (si risale nell'albero del filesystem)  e poi si apre la cartella `tmp` dove si vedrà il file in questione. Infine si attiva il download. Avremo così una copia locale delle chiavi e non saremo più costretti a generarla ogni volta ci serve (e soprattutto non dovremmo caricare su github la nuova chiave). NON È UNA MODALITÀ SICURA e quindi da non usare mai ma per i nostri scopi va bene così."
      ]
    },
    {
      "metadata": {
        "id": "VbCpqbpAbcny",
        "colab_type": "text"
      },
      "cell_type": "markdown",
      "source": [
        "### Aggiunta chiave pubblica tra le chiavi su github\n",
        "\n",
        "Generata la chiave (pubblica e privata) occorre riportare la chiave **pubblica** all'interno della configurazione di github in modo da permettere l'accesso della cella di colab al repository di github."
      ]
    },
    {
      "metadata": {
        "id": "StAJU_YRjN5p",
        "colab_type": "code",
        "outputId": "c69ce8c2-7218-4afe-98f4-4cc15a34c9e4",
        "colab": {
          "base_uri": "https://localhost:8080/",
          "height": 54
        }
      },
      "cell_type": "code",
      "source": [
        "# visualizzazione della chiave pubblica per poter fare copy & paste per github\n",
        "! cat /root/.ssh/id_rsa.pub"
      ],
      "execution_count": 0,
      "outputs": [
        {
          "output_type": "stream",
          "text": [
            "ssh-rsa AAAAB3NzaC1yc2EAAAADAQABAAACAQD15eEdaVtDFp/Nc6h1e/kU83EDoTYJxvCM/3FKJpG5KmUL+PROLF4ztjtSHv1cuUgBZxuTM08Wzu4Wf1PYeVZblPSu7BK1OIo/D3SwNpBKWJdOhO4OaJpUP0jF1JsE0k5xj1s84BKT+2NoXF1rxl36u1KXKBSQ76ZoW0ea5fz3hZMYQd9qUJXxzBbwZsoPsWA3ipsPhzvs9xE4XrDYBg09FTZ32k2FcMCOR9JLqc1AUi/Q04BCMduJFTcXxHbG/GVtlsDGGSAQ7lHNue2wrqJjBRV8a85ng26Wpyw4PX6YbUSM/WH3GyW3DBgs8TokC51aWD9BbjOIGTbzdDy1RSfk0CSkTKztbUq2GurxCZBqhZlc37KqLPhdehyqC/yvW/vUnMZjWlxgX4ZhwQK4HsWNfc5rI4s3T9DpuoKjgB+JnZF2XL0FL6LYIIx5QuTc4GQ4+8Lb80dr9jYkbcE/W+xNgUXeAnW+fEmxNIjNr2nZnkbXtQtKoHGSXabz+TdZkybkkK10jG1qpl73LcXV9V95507/qLZ5uX9PAD6qLQ/f0JkrAVWUWyFpUX8uoucib7deDg/OkxEdZE88CBDhCBkJnhvyhFRcqGk5z8BlUf2oDWlZMYiFoI6CiIP1i2DW6OQTbbz+Ib2n6REfzfxkGveipf25dTklU9B8+8CAA871fw== sandro.doro@gmail.com\n"
          ],
          "name": "stdout"
        }
      ]
    },
    {
      "metadata": {
        "id": "rSX-x3t7r8IF",
        "colab_type": "text"
      },
      "cell_type": "markdown",
      "source": [
        "Ora accediamo a github.com con il nostro account e proseguiamo selezionando:"
      ]
    },
    {
      "metadata": {
        "id": "xA9tQFPrrl7G",
        "colab_type": "code",
        "outputId": "a37b9dc3-6d24-4c0e-bbb9-e8ecf1076803",
        "colab": {
          "base_uri": "https://localhost:8080/",
          "height": 392
        }
      },
      "cell_type": "code",
      "source": [
        "from IPython.display import Image\n",
        "Image(url='https://raw.githubusercontent.com/sdoro/images/master/git/settings.png')"
      ],
      "execution_count": 0,
      "outputs": [
        {
          "output_type": "execute_result",
          "data": {
            "text/html": [
              "<img src=\"https://raw.githubusercontent.com/sdoro/images/master/git/settings.png\"/>"
            ],
            "text/plain": [
              "<IPython.core.display.Image object>"
            ]
          },
          "metadata": {
            "tags": []
          },
          "execution_count": 1
        }
      ]
    },
    {
      "metadata": {
        "id": "IS_r5PL_sPM6",
        "colab_type": "text"
      },
      "cell_type": "markdown",
      "source": [
        "Proseguiamo selezionando la voce di menu:"
      ]
    },
    {
      "metadata": {
        "id": "RjDwzqHMsV2b",
        "colab_type": "code",
        "outputId": "8ff1885a-7196-440b-9a7f-18d990cd51c4",
        "colab": {
          "base_uri": "https://localhost:8080/",
          "height": 339
        }
      },
      "cell_type": "code",
      "source": [
        "from IPython.display import Image\n",
        "Image(url='https://raw.githubusercontent.com/sdoro/images/master/git/SSHkeys.png')"
      ],
      "execution_count": 0,
      "outputs": [
        {
          "output_type": "execute_result",
          "data": {
            "text/html": [
              "<img src=\"https://raw.githubusercontent.com/sdoro/images/master/git/SSHkeys.png\"/>"
            ],
            "text/plain": [
              "<IPython.core.display.Image object>"
            ]
          },
          "metadata": {
            "tags": []
          },
          "execution_count": 3
        }
      ]
    },
    {
      "metadata": {
        "id": "wzThoCTstytO",
        "colab_type": "text"
      },
      "cell_type": "markdown",
      "source": [
        "e selezioniamo il bottone \"New SSH key\" dove metteremo un nome a nostra scelta nel primo campo (Title) e la chiave pubblica copiata da colab nel secondo campo (Key):"
      ]
    },
    {
      "metadata": {
        "id": "jgU50xnEuETq",
        "colab_type": "code",
        "outputId": "5b3708c5-4189-4f43-f5fa-84f44fa6ea86",
        "colab": {
          "base_uri": "https://localhost:8080/",
          "height": 458
        }
      },
      "cell_type": "code",
      "source": [
        "from IPython.display import Image\n",
        "Image(url='https://raw.githubusercontent.com/sdoro/images/master/git/addkey.png')"
      ],
      "execution_count": 0,
      "outputs": [
        {
          "output_type": "execute_result",
          "data": {
            "text/html": [
              "<img src=\"https://raw.githubusercontent.com/sdoro/images/master/git/addkey.png\"/>"
            ],
            "text/plain": [
              "<IPython.core.display.Image object>"
            ]
          },
          "metadata": {
            "tags": []
          },
          "execution_count": 4
        }
      ]
    },
    {
      "metadata": {
        "id": "KcYoIAGhGkzt",
        "colab_type": "text"
      },
      "cell_type": "markdown",
      "source": [
        "### Verifica del funzionamento della chiave\n",
        "\n",
        "La verifica passa per generare (o utilizzare) un proprio repository (o un repository dove è memorizzata la nostra chiave pubblica) e seguire i seguenti passi:\n",
        "\n",
        "1. configurazione per git di nome utente e dell'indirizzo utente;\n",
        "2. generazione su github un repository con anche il file `README.md`; In questo caso il nome del repository è **provaColab** e con l'utente **sdoro**. Per sperimentare gli stessi comandi vanno **sostituiti entrambi** con i vostri particolari.\n",
        "3. selezionare il [bottone download](https://raw.githubusercontent.com/sdoro/images/master/git/cloneButton.png) e proseguire selezionando il [testo](https://raw.githubusercontent.com/sdoro/images/master/git/cloneButtonExpanded.png) dove è molto importante selezionare **Clone with SSH**;\n",
        "4. dare in colab il comando `! git clone git@github.com:sdoro/provaColab.git` (sostituendo il nome del repository con il vostro).\n"
      ]
    },
    {
      "metadata": {
        "id": "NbWRXqUASMUE",
        "colab_type": "code",
        "outputId": "32b98b1b-a0ca-4f80-9bb5-1136ef00a2bb",
        "colab": {
          "base_uri": "https://localhost:8080/",
          "height": 51
        }
      },
      "cell_type": "code",
      "source": [
        "# Passo1: configurazione dell'utente\n",
        "%%bash\n",
        "git config --global user.name \"Sandro Doro\"\n",
        "git config --global user.email \"sandro.doro@gmail.com\"\n",
        "git config --list"
      ],
      "execution_count": 0,
      "outputs": [
        {
          "output_type": "stream",
          "text": [
            "user.name=Sandro Doro\n",
            "user.email=sandro.doro@gmail.com\n"
          ],
          "name": "stdout"
        }
      ]
    },
    {
      "metadata": {
        "id": "Dj4kUBm5QGp6",
        "colab_type": "code",
        "outputId": "3184d4d7-f0ce-4a03-9b66-03f2795c1e8b",
        "colab": {
          "base_uri": "https://localhost:8080/",
          "height": 170
        }
      },
      "cell_type": "code",
      "source": [
        "# Passo 4: cella di pulizia lavori precedenti e clone del repository\n",
        "% cd\n",
        "% rm -rf provaColab\n",
        "#! git clone https://github.com/sdoro/tt.git\n",
        "! git clone git@github.com:sdoro/provaColab.git"
      ],
      "execution_count": 0,
      "outputs": [
        {
          "output_type": "stream",
          "text": [
            "/root\n",
            "Cloning into 'provaColab'...\n",
            "Warning: Permanently added the RSA host key for IP address '192.30.255.113' to the list of known hosts.\n",
            "remote: Enumerating objects: 13, done.\u001b[K\n",
            "remote: Counting objects: 100% (13/13), done.\u001b[K\n",
            "remote: Compressing objects: 100% (7/7), done.\u001b[K\n",
            "remote: Total 13 (delta 3), reused 9 (delta 2), pack-reused 0\u001b[K\n",
            "Receiving objects: 100% (13/13), done.\n",
            "Resolving deltas: 100% (3/3), done.\n"
          ],
          "name": "stdout"
        }
      ]
    },
    {
      "metadata": {
        "id": "F2wMisG4r9uG",
        "colab_type": "text"
      },
      "cell_type": "markdown",
      "source": [
        "Da questo momento avete una copia locale del repository remoto. Per prova facciamo in locale delle modifiche che al termine riportiamo nel repository remoto:\n",
        "\n",
        "1. `% cd provaColab`\n",
        "2. `! echo \"<--- questo è un commento --->\" >> README.md`\n",
        "3. `! git add README.md`\n",
        "4. `! git commit -m \"Just a comment!\"`\n",
        "5. `! git push`\n",
        "\n",
        "dove al passo 1 ci posizioniamo all'interno del repository, al 2 generiamo un commento HTML, al 3 informiamo git di voler considerare `README.md` un file \"importante\" e al passo 4 registriamo nel repository la modifica. Al passo 5 riportiamo le variazioni al repository remoto."
      ]
    },
    {
      "metadata": {
        "id": "b7Zc5InfQK9N",
        "colab_type": "code",
        "outputId": "d5b99e1e-2d04-49fa-e738-21f1c0cd0f71",
        "colab": {
          "base_uri": "https://localhost:8080/",
          "height": 68
        }
      },
      "cell_type": "code",
      "source": [
        "# cella di verifica del contenuto\n",
        "% cd provaColab\n",
        "% cat README.md"
      ],
      "execution_count": 0,
      "outputs": [
        {
          "output_type": "stream",
          "text": [
            "/root/provaColab\n",
            "# provaColab\n",
            "Repository di prova di accesso da Google Colaboratory\n"
          ],
          "name": "stdout"
        }
      ]
    },
    {
      "metadata": {
        "id": "8TZ_gF6vRbsi",
        "colab_type": "code",
        "outputId": "c0a6f9aa-c7bd-4308-a1b3-5bbc43868ae8",
        "colab": {
          "base_uri": "https://localhost:8080/",
          "height": 187
        }
      },
      "cell_type": "code",
      "source": [
        "# cella di modifica del contenuto\n",
        "! echo \"<--- questo è un commento --->\" >> README.md\n",
        "! git status"
      ],
      "execution_count": 0,
      "outputs": [
        {
          "output_type": "stream",
          "text": [
            "On branch master\n",
            "Your branch is up to date with 'origin/master'.\n",
            "\n",
            "Changes not staged for commit:\n",
            "  (use \"git add <file>...\" to update what will be committed)\n",
            "  (use \"git checkout -- <file>...\" to discard changes in working directory)\n",
            "\n",
            "\t\u001b[31mmodified:   README.md\u001b[m\n",
            "\n",
            "no changes added to commit (use \"git add\" and/or \"git commit -a\")\n"
          ],
          "name": "stdout"
        }
      ]
    },
    {
      "metadata": {
        "id": "CL2D5y4MRwSr",
        "colab_type": "code",
        "outputId": "b221bd48-c4b6-449d-f78b-1a58d3aa47af",
        "colab": {
          "base_uri": "https://localhost:8080/",
          "height": 153
        }
      },
      "cell_type": "code",
      "source": [
        "# cella di visualizzazione delle modifiche\n",
        "! git diff"
      ],
      "execution_count": 0,
      "outputs": [
        {
          "output_type": "stream",
          "text": [
            "\u001b[1mdiff --git a/README.md b/README.md\u001b[m\n",
            "\u001b[1mindex 8b978fd..22e638f 100644\u001b[m\n",
            "\u001b[1m--- a/README.md\u001b[m\n",
            "\u001b[1m+++ b/README.md\u001b[m\n",
            "\u001b[36m@@ -1,2 +1,3 @@\u001b[m\n",
            " # provaColab\u001b[m\n",
            " Repository di prova di accesso da Google Colaboratory\u001b[m\n",
            "\u001b[32m+\u001b[m\u001b[32m<--- questo è un commento --->\u001b[m\n"
          ],
          "name": "stdout"
        }
      ]
    },
    {
      "metadata": {
        "id": "f_gOJx0_RwbZ",
        "colab_type": "code",
        "outputId": "3d2cb560-98b5-40eb-dc35-f3492a55a0cb",
        "colab": {
          "base_uri": "https://localhost:8080/",
          "height": 51
        }
      },
      "cell_type": "code",
      "source": [
        "# cella di registrazione del file sul repository (locale) e di commit\n",
        "! git add README.md\n",
        "! git commit -m \"Just a comment!\""
      ],
      "execution_count": 0,
      "outputs": [
        {
          "output_type": "stream",
          "text": [
            "[master a7f9b4b] Just a comment!\n",
            " 1 file changed, 1 insertion(+)\n"
          ],
          "name": "stdout"
        }
      ]
    },
    {
      "metadata": {
        "id": "ssT8cGuBSS9r",
        "colab_type": "code",
        "outputId": "fbb82f55-4bd6-4451-ef15-72f7f6d7b509",
        "colab": {
          "base_uri": "https://localhost:8080/",
          "height": 153
        }
      },
      "cell_type": "code",
      "source": [
        "# cella di upload delle modifiche sul repository remoto\n",
        "! git push"
      ],
      "execution_count": 0,
      "outputs": [
        {
          "output_type": "stream",
          "text": [
            "Warning: Permanently added the RSA host key for IP address '192.30.255.112' to the list of known hosts.\r\n",
            "Counting objects: 3, done.\n",
            "Delta compression using up to 2 threads.\n",
            "Compressing objects:  50% (1/2)   \rCompressing objects: 100% (2/2)   \rCompressing objects: 100% (2/2), done.\n",
            "Writing objects:  33% (1/3)   \rWriting objects:  66% (2/3)   \rWriting objects: 100% (3/3)   \rWriting objects: 100% (3/3), 334 bytes | 334.00 KiB/s, done.\n",
            "Total 3 (delta 0), reused 0 (delta 0)\n",
            "To github.com:sdoro/provaColab.git\n",
            "   5549fa2..a7f9b4b  master -> master\n"
          ],
          "name": "stdout"
        }
      ]
    }
  ]
}