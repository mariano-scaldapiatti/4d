{
  "nbformat": 4,
  "nbformat_minor": 0,
  "metadata": {
    "colab": {
      "name": "git-brancing.ipynb",
      "version": "0.3.2",
      "provenance": [],
      "collapsed_sections": [],
      "include_colab_link": true
    },
    "kernelspec": {
      "name": "python3",
      "display_name": "Python 3"
    }
  },
  "cells": [
    {
      "cell_type": "markdown",
      "metadata": {
        "id": "view-in-github",
        "colab_type": "text"
      },
      "source": [
        "<a href=\"https://colab.research.google.com/github/mariano-scaldapiatti/4d/blob/master/git_brancing.ipynb\" target=\"_parent\"><img src=\"https://colab.research.google.com/assets/colab-badge.svg\" alt=\"Open In Colab\"/></a>"
      ]
    },
    {
      "metadata": {
        "id": "9Zesc_zECzae",
        "colab_type": "text"
      },
      "cell_type": "markdown",
      "source": [
        " ### Branching\n",
        "\n",
        "In questo notebook faremo delle prove di branching con un repository di nome `primoBranch`. Mettiamo prima le celle di tipo \"utility\" per inizializzare o cancellare/ripristinare l'ambiente."
      ]
    },
    {
      "metadata": {
        "id": "Zm8qosHS9Vn3",
        "colab_type": "code",
        "colab": {}
      },
      "cell_type": "code",
      "source": [
        "# 1. cella per il ripristino dell'ambiente;\n",
        "% cd\n",
        "% rm -rf primoBranch"
      ],
      "execution_count": 0,
      "outputs": []
    },
    {
      "metadata": {
        "id": "qti7TTVl9n43",
        "colab_type": "code",
        "colab": {}
      },
      "cell_type": "code",
      "source": [
        "# 2. Passo configurazione dell'utente\n",
        "%%bash\n",
        "git config --global user.name \"sdoro\"\n",
        "git config --global user.email \"sandro.doro@gmail.it\"\n",
        "git config --list"
      ],
      "execution_count": 0,
      "outputs": []
    },
    {
      "metadata": {
        "id": "Rq-EsMp49rHl",
        "colab_type": "code",
        "colab": {}
      },
      "cell_type": "code",
      "source": [
        "# 3. costruisci una directory di nome `primoBranch`, entraci e inizializza il repository;\n",
        "% mkdir primoBranch\n",
        "% cd primoBranch\n",
        "# create a new git repository:\n",
        "! git init"
      ],
      "execution_count": 0,
      "outputs": []
    },
    {
      "metadata": {
        "id": "Rd7Apief-LNu",
        "colab_type": "code",
        "outputId": "72d888dd-a8de-41e9-bcd3-6273611525ca",
        "colab": {
          "base_uri": "https://localhost:8080/",
          "height": 85
        }
      },
      "cell_type": "code",
      "source": [
        "# 4. modifica del repository\n",
        "! echo \"# Prova di brancing\" > README.md\n",
        "! echo \"### 1. Versione Principale\" >> README.md\n",
        "! echo \"1.\" > file1.txt\n",
        "! git add README.md file1.txt\n",
        "! git commit -m \"Prima modifica nel master\""
      ],
      "execution_count": 0,
      "outputs": [
        {
          "output_type": "stream",
          "text": [
            "[master (root-commit) 278c020] Prima modifica nel master\n",
            " 2 files changed, 3 insertions(+)\n",
            " create mode 100644 README.md\n",
            " create mode 100644 file1.txt\n"
          ],
          "name": "stdout"
        }
      ]
    },
    {
      "metadata": {
        "id": "ORa2gXLv-QAO",
        "colab_type": "code",
        "colab": {}
      },
      "cell_type": "code",
      "source": [
        "# 5. lista commit\n",
        "! git shortlog"
      ],
      "execution_count": 0,
      "outputs": []
    },
    {
      "metadata": {
        "id": "mrC2jvyHB_mc",
        "colab_type": "code",
        "outputId": "d6506eb3-4064-4929-c2e6-81da9185ae83",
        "colab": {
          "base_uri": "https://localhost:8080/",
          "height": 68
        }
      },
      "cell_type": "code",
      "source": [
        "# 6. costruzione di un branch e modifica del repository (nella parte branch)\n",
        "! git checkout -b ver2\n",
        "! echo \"### Versione branch\" >> README.md\n",
        "! echo \"2.\" >> file1.txt\n",
        "! git add README.md file1.txt\n",
        "! git commit -m \"Prima modifica nel brach\"\n"
      ],
      "execution_count": 0,
      "outputs": [
        {
          "output_type": "stream",
          "text": [
            "Switched to a new branch 'ver2'\n",
            "[ver2 92acfc3] Prima modifica nel brach\n",
            " 2 files changed, 2 insertions(+)\n"
          ],
          "name": "stdout"
        }
      ]
    },
    {
      "metadata": {
        "id": "eQtmxE3h-gn8",
        "colab_type": "code",
        "colab": {}
      },
      "cell_type": "code",
      "source": [
        "# 7. lista commit\n",
        "! git shortlog"
      ],
      "execution_count": 0,
      "outputs": []
    },
    {
      "metadata": {
        "id": "T0REDpTjCiSa",
        "colab_type": "code",
        "colab": {}
      },
      "cell_type": "code",
      "source": [
        "# 8. modifica al master\n",
        "! git checkout master\n",
        "! cat README.md\n",
        "! echo -----------------------------------------\n",
        "! cat file1.txt\n",
        "! echo \"### Altra modifica nel master\" >> README.md\n",
        "! echo \"3.\" >> file1.txt\n",
        "! git add README.md file1.txt\n",
        "! git commit -m \"Seconda modifica nel master\""
      ],
      "execution_count": 0,
      "outputs": []
    },
    {
      "metadata": {
        "id": "Cv5f0vWrCkJ_",
        "colab_type": "code",
        "colab": {}
      },
      "cell_type": "code",
      "source": [
        "# 9. modifica al branch\n",
        "! git checkout ver2\n",
        "! cat README.md\n",
        "! echo -----------------------------------------\n",
        "! cat file1.txt\n",
        "! echo \"### Altra modifica nel branch\" >> README.md\n",
        "! echo \"4.\" >> file1.txt\n",
        "! git add README.md file1.txt\n",
        "! git commit -m \"Seconda modifica nel branch\""
      ],
      "execution_count": 0,
      "outputs": []
    },
    {
      "metadata": {
        "id": "_XsQ35YhCmky",
        "colab_type": "code",
        "colab": {}
      },
      "cell_type": "code",
      "source": [
        "# 10. lista commit\n",
        "! git shortlog"
      ],
      "execution_count": 0,
      "outputs": []
    },
    {
      "metadata": {
        "id": "qnKqY8YFH3Qs",
        "colab_type": "code",
        "outputId": "28288f7b-5a58-4f2d-843a-75de22244a47",
        "colab": {
          "base_uri": "https://localhost:8080/",
          "height": 125
        }
      },
      "cell_type": "code",
      "source": [
        "# 11. rappresentazione grafica di TUTTI i commit effettuati\n",
        "from IPython.display import Image\n",
        "Image(url='https://raw.githubusercontent.com/sdoro/images/master/git/branching.png')"
      ],
      "execution_count": 0,
      "outputs": [
        {
          "output_type": "execute_result",
          "data": {
            "text/html": [
              "<img src=\"https://raw.githubusercontent.com/sdoro/images/master/git/branching.png\"/>"
            ],
            "text/plain": [
              "<IPython.core.display.Image object>"
            ]
          },
          "metadata": {
            "tags": []
          },
          "execution_count": 11
        }
      ]
    },
    {
      "metadata": {
        "id": "15-5OQMyKyC7",
        "colab_type": "text"
      },
      "cell_type": "markdown",
      "source": [
        "### Esercizio di riflessione sulla gestione delle versioni\n",
        "\n",
        "Rispondere alle seguenti domande (e riportare su classroom):\n",
        "1. al passo 9 prima del commit che cosa contiene il file `file1.txt` ? e dopo il run della cella?\n",
        "2. al passo 8 prima del commit che cosa contiene il file `file1.txt` ? e dopo il run della cella?\n",
        "3. al passo 6 prima del commit che cosa contiene il file `file1.txt` ? e dopo il run della cella?\n",
        "4. al termine del passo 9 che cosa contiene il file `README.md` ?\n",
        "5. al termine del passo 8 che cosa contiene il file `README.md` ?"
      ]
    }
  ]
}