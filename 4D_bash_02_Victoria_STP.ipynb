{
  "nbformat": 4,
  "nbformat_minor": 0,
  "metadata": {
    "colab": {
      "name": "4D-bash-02_Victoria_STP.ipynb",
      "version": "0.3.2",
      "provenance": [],
      "collapsed_sections": [],
      "include_colab_link": true
    },
    "kernelspec": {
      "name": "python3",
      "display_name": "Python 3"
    }
  },
  "cells": [
    {
      "cell_type": "markdown",
      "metadata": {
        "id": "view-in-github",
        "colab_type": "text"
      },
      "source": [
        "<a href=\"https://colab.research.google.com/github/mariano-scaldapiatti/4d/blob/master/4D_bash_02_Victoria_STP.ipynb\" target=\"_parent\"><img src=\"https://colab.research.google.com/assets/colab-badge.svg\" alt=\"Open In Colab\"/></a>"
      ]
    },
    {
      "metadata": {
        "id": "5sEyzsUMPNsB",
        "colab_type": "text"
      },
      "cell_type": "markdown",
      "source": [
        "### Esercitazione sulla bash (comandi di costruzione, spostamento, pipe e reindirizzamento)\n",
        "\n",
        "1. costruire una cartella di nome `start`\n",
        "\n",
        "2. costruire tre sottodirectory (della `start`): `small`, `medium` e `large`\n",
        "\n",
        "3. entra nella directory  di nome `small`\n",
        "\n",
        "4. genera un file di nome `s1.txt` senza usare il reindirizzamento\n",
        "\n",
        "5. conta i caratteri presenti nel file /etc/hostname in due modi:\n",
        "\n",
        "  1.  utilizzando una pipe (quindi due o più comandi)\n",
        "  2.  con un singolo comando\n",
        "  \n",
        "6. genera una directory di nome `g` all'interno della directory `medium`\n",
        "\n",
        "7. costruisce all'interno di `g` un file di nome `g2.txt` e scrivici '`pluto`'\n",
        "\n",
        "8. entra nella directory di nome `medium`\n",
        "\n",
        "9. costruisci una sotto directory di `g` di nome `m`\n",
        "\n",
        "10. genera dentro ad `m` due file di nome `m5.txt` ed `m6.txt` con contenuto rispettivamente '`paperino`' e '`archimede`'\n",
        "\n",
        "11. sposta il file m6.txt, insriscilo nella directory `small` e chiamalo `s2.txt`\n",
        "\n",
        "12. entra nella directory di nome `start` e genera il file `s3.txt` all'interno della directory di nome `large` con contenuto '`FINE`'\n",
        "\n",
        "13. sposta il file di nome `s3.txt` nella directory `small`\n",
        "\n",
        "14. copia il contenuto del file `/etc/hostname` nel file `s1.txt`\n",
        "\n",
        "15. concatena il contenuto del file `s1.txt` con il contenuto del file `g2.txt` e con il contenuto del file `m5.txt` e conta il numero complessivo di parole (word)\n",
        "\n",
        "16. rimuovi il file `m5.txt`"
      ]
    },
    {
      "metadata": {
        "id": "OluUXuN7Yt8R",
        "colab_type": "code",
        "outputId": "289ba197-1fe0-42a9-ae87-81773ae8950f",
        "colab": {
          "base_uri": "https://localhost:8080/",
          "height": 35
        }
      },
      "cell_type": "code",
      "source": [
        "# cella per il ripristino\n",
        "\n",
        "%cd\n",
        "\n",
        "%rm -rf start\n"
      ],
      "execution_count": 0,
      "outputs": [
        {
          "output_type": "stream",
          "text": [
            "/root\n"
          ],
          "name": "stdout"
        }
      ]
    },
    {
      "metadata": {
        "id": "8AkqarhWZpyl",
        "colab_type": "code",
        "colab": {}
      },
      "cell_type": "code",
      "source": [
        "#1\n",
        "\n",
        "%mkdir start\n"
      ],
      "execution_count": 0,
      "outputs": []
    },
    {
      "metadata": {
        "id": "ZiJXWri6Z9zm",
        "colab_type": "code",
        "colab": {}
      },
      "cell_type": "code",
      "source": [
        "#2\n",
        "%mkdir start/small\n",
        "%mkdir start/medium\n",
        "%mkdir start/large"
      ],
      "execution_count": 0,
      "outputs": []
    },
    {
      "metadata": {
        "id": "JyF9sbC8dBBi",
        "colab_type": "code",
        "outputId": "7ef7007b-9bbd-4759-fcb4-5d74f945192e",
        "colab": {
          "base_uri": "https://localhost:8080/",
          "height": 88
        }
      },
      "cell_type": "code",
      "source": [
        "! find start"
      ],
      "execution_count": 0,
      "outputs": [
        {
          "output_type": "stream",
          "text": [
            "start\n",
            "start/small\n",
            "start/medium\n",
            "start/large\n"
          ],
          "name": "stdout"
        }
      ]
    },
    {
      "metadata": {
        "id": "tcaCbsqabGsH",
        "colab_type": "code",
        "outputId": "996aadd7-1bcd-44a7-a357-0f6dce663ce4",
        "colab": {
          "base_uri": "https://localhost:8080/",
          "height": 35
        }
      },
      "cell_type": "code",
      "source": [
        "#3\n",
        "%cd start/small\n"
      ],
      "execution_count": 0,
      "outputs": [
        {
          "output_type": "stream",
          "text": [
            "/root/start/small\n"
          ],
          "name": "stdout"
        }
      ]
    },
    {
      "metadata": {
        "id": "OT4rdervbLtM",
        "colab_type": "code",
        "colab": {}
      },
      "cell_type": "code",
      "source": [
        "#4\n",
        "\n",
        "!touch s1.txt"
      ],
      "execution_count": 0,
      "outputs": []
    },
    {
      "metadata": {
        "id": "K2HB_IJintaf",
        "colab_type": "code",
        "outputId": "86df1988-a7e8-4317-dd18-7953ee3876eb",
        "colab": {
          "base_uri": "https://localhost:8080/",
          "height": 53
        }
      },
      "cell_type": "code",
      "source": [
        "#5.a\n",
        "% cat/etc/hostname|wc -c\n",
        "#5.b\n",
        "! wc -c /etc/hostname"
      ],
      "execution_count": 0,
      "outputs": [
        {
          "output_type": "stream",
          "text": [
            "13\n",
            "13 /etc/hostname\n"
          ],
          "name": "stdout"
        }
      ]
    },
    {
      "metadata": {
        "id": "rObIrb0Sb3bb",
        "colab_type": "code",
        "colab": {}
      },
      "cell_type": "code",
      "source": [
        "#6\n",
        "\n",
        "%mkdir ../medium/g \n",
        "\n"
      ],
      "execution_count": 0,
      "outputs": []
    },
    {
      "metadata": {
        "id": "H9DyxqyicUdQ",
        "colab_type": "code",
        "colab": {}
      },
      "cell_type": "code",
      "source": [
        "#7\n",
        "\n",
        "!echo 'pluto' > start/medium/g/g2.txt\n"
      ],
      "execution_count": 0,
      "outputs": []
    },
    {
      "metadata": {
        "id": "1WM8M3u1dygb",
        "colab_type": "code",
        "colab": {}
      },
      "cell_type": "code",
      "source": [
        "#8 & 9\n",
        "\n",
        "%mkdir start/medium/g/m"
      ],
      "execution_count": 0,
      "outputs": []
    },
    {
      "metadata": {
        "id": "idKivl1xeLuV",
        "colab_type": "code",
        "colab": {}
      },
      "cell_type": "code",
      "source": [
        "#10\n",
        "\n",
        "! echo 'paperino' > start/medium/g/m/m5.txt\n",
        "\n",
        "! echo 'archimede' > start/medium/g/m/m6.txt\n",
        "\n",
        "\n",
        "\n"
      ],
      "execution_count": 0,
      "outputs": []
    },
    {
      "metadata": {
        "id": "0D17T1LqfbtG",
        "colab_type": "code",
        "colab": {}
      },
      "cell_type": "code",
      "source": [
        "#11\n",
        "\n",
        "%mv start/medium/g/m/m6.txt start/small/s2.txt"
      ],
      "execution_count": 0,
      "outputs": []
    },
    {
      "metadata": {
        "id": "xsJis0yrgj2Q",
        "colab_type": "code",
        "colab": {}
      },
      "cell_type": "code",
      "source": [
        "#12\n",
        "\n",
        "!echo 'FINE' > start/large/s3.txt\n"
      ],
      "execution_count": 0,
      "outputs": []
    },
    {
      "metadata": {
        "id": "zCZhbeeKg1Oh",
        "colab_type": "code",
        "colab": {}
      },
      "cell_type": "code",
      "source": [
        "#13\n",
        "\n",
        "%mv start/large/s3.txt start/small"
      ],
      "execution_count": 0,
      "outputs": []
    },
    {
      "metadata": {
        "id": "coO8LBMl6M12",
        "colab_type": "code",
        "colab": {}
      },
      "cell_type": "code",
      "source": [
        "#14\n",
        "\n",
        "%cp /etc/hostname start/small/s1.txt"
      ],
      "execution_count": 0,
      "outputs": []
    },
    {
      "metadata": {
        "id": "mw5cZl5AoUdS",
        "colab_type": "code",
        "outputId": "67b7f931-67ad-4622-b949-21d032d90689",
        "colab": {
          "base_uri": "https://localhost:8080/",
          "height": 71
        }
      },
      "cell_type": "code",
      "source": [
        "#15\n",
        "\n",
        "%cat start/small/s1.txt start/medium/g/g2.txt start/medium/g/m/m5.txt"
      ],
      "execution_count": 0,
      "outputs": [
        {
          "output_type": "stream",
          "text": [
            "6f2a2b0b93aa\n",
            "pluto\n",
            "paperino\n"
          ],
          "name": "stdout"
        }
      ]
    },
    {
      "metadata": {
        "id": "ILjF4GLTfxfI",
        "colab_type": "code",
        "colab": {}
      },
      "cell_type": "code",
      "source": [
        "#16\n",
        "\n",
        "%rm -rf  start/medium/g/m/m5.txt"
      ],
      "execution_count": 0,
      "outputs": []
    },
    {
      "metadata": {
        "id": "3vpN87G8x96i",
        "colab_type": "text"
      },
      "cell_type": "markdown",
      "source": [
        "Proporre la soluzione in coda a questa cella adottando **la seguente sequenza di celle**:\n",
        "\n",
        "* una cella di CODE per **ogni passo numerato** (riportando il numero del passo come commento) riportando l'output\n",
        "\n",
        "* al termine un'unica cella di CODE con tutti i passi MA con **commentato il passo** che si sta risolvendo.\n",
        "\n",
        "* una cella terminale in cui si visualizza la situazione finale del filesystem.\n",
        "\n",
        "**Non eseguire comandi non richiesti** se non per visualizzare il risultato raggiunto."
      ]
    },
    {
      "metadata": {
        "id": "2f_e03-5gSKz",
        "colab_type": "code",
        "outputId": "8d1eb95d-2c20-4aa5-a313-53bd03ac2b22",
        "colab": {
          "base_uri": "https://localhost:8080/",
          "height": 196
        }
      },
      "cell_type": "code",
      "source": [
        "!find start"
      ],
      "execution_count": 0,
      "outputs": [
        {
          "output_type": "stream",
          "text": [
            "start\n",
            "start/small\n",
            "start/small/s3.txt\n",
            "start/small/s1.txt\n",
            "start/small/s2.txt\n",
            "start/medium\n",
            "start/medium/g\n",
            "start/medium/g/m\n",
            "start/medium/g/g2.txt\n",
            "start/large\n"
          ],
          "name": "stdout"
        }
      ]
    },
    {
      "metadata": {
        "id": "UIi7tu7SnGRA",
        "colab_type": "code",
        "outputId": "706cce78-1a86-4500-eede-031a8e92a8d2",
        "colab": {
          "base_uri": "https://localhost:8080/",
          "height": 51
        }
      },
      "cell_type": "code",
      "source": [
        "%ls -l"
      ],
      "execution_count": 0,
      "outputs": [
        {
          "output_type": "stream",
          "text": [
            "total 4\n",
            "drwxr-xr-x 5 root root 4096 Jan 13 15:54 \u001b[0m\u001b[01;34mstart\u001b[0m/\n"
          ],
          "name": "stdout"
        }
      ]
    }
  ]
}