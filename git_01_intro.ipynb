{
  "nbformat": 4,
  "nbformat_minor": 0,
  "metadata": {
    "colab": {
      "name": "git-01-intro.ipynb",
      "version": "0.3.2",
      "provenance": [],
      "collapsed_sections": [],
      "include_colab_link": true
    },
    "kernelspec": {
      "name": "python3",
      "display_name": "Python 3"
    }
  },
  "cells": [
    {
      "cell_type": "markdown",
      "metadata": {
        "id": "view-in-github",
        "colab_type": "text"
      },
      "source": [
        "<a href=\"https://colab.research.google.com/github/mariano-scaldapiatti/4d/blob/master/git_01_intro.ipynb\" target=\"_parent\"><img src=\"https://colab.research.google.com/assets/colab-badge.svg\" alt=\"Open In Colab\"/></a>"
      ]
    },
    {
      "metadata": {
        "id": "kOWLiziEiCME",
        "colab_type": "text"
      },
      "cell_type": "markdown",
      "source": [
        "# Sistema per il controllo delle versioni del software (Revision Control Software)\n",
        "\n",
        "In ogni sviluppo software, uno dei più importanti strumenti è il software per il controllo delle versioni (RCS).\n",
        "\n",
        "I due scopi principali di un sistema RCS sono:\n",
        "* tener traccia delle variazioni nei codici sorgenti; permettere di ritornare indietro ad una vecchia versione se qualcosa va storto; lavorare su più ipotesi evolutive parallelamente;\n",
        "* rendere possibile il lavoro collaborativo di diverse persone sullo stesso codice. Ossia permettere a molti autori di cambiare il codice.\n",
        "\n",
        "\n"
      ]
    },
    {
      "metadata": {
        "id": "n_SvDRfPk_34",
        "colab_type": "text"
      },
      "cell_type": "markdown",
      "source": [
        "### Principi base e terminologia di RCS\n",
        "\n",
        "In un RCS, il codice sorgente o contenuto digitale è memorizzato in un **repository**.\n",
        "\n",
        "Il repository non contiene solo l'ultima versione di tutti i file, ma la storia completa di tutte le variazioni ai file da quando sono stati inseriti nel repository.\n",
        "\n",
        "Un utente può chiedere il **checkout** del repository e in tal modo ottiene una copia locale di tutti i file. Tutte le variazioni sono fatte nei file della directory locale, dove i file sono aggiunti, rimossi e aggiornati.\n",
        "\n",
        "Quando un lavoro è terminato, le variazioni dei file locali vengono **commited**  ossia salvati nel repository.\n",
        "\n",
        "Se qualcun altro ha fatto delle variazioni sullo stesso file, si verifica un **conflict**. In molti casi il conflitto può essere **resolved** automaticamente dal sistena, ma in alcuni casi dobbiamo manualmente fare il **merge** di differenti variazioni.\n",
        "\n",
        "Spesso è utile creare un nuvovo **branch** del repository, oppure creare un **fork** o un **clone** dell'intero repository, quando stiamo sperimentando dei nuovi sviluppo. Il branch principale è chiamato spesso **master** o **trunk**. Quando il lavoro su un branch è completato, viene messo in merge (merged) nel master repository.\n",
        "\n",
        "Con RCS come GIT chiamiamo \n",
        " **pull** and **push** gruppi di variazioni tra repository distinti. Per esempio\n",
        " tra una copia locale e un repository centrale (per esempio un repository come `github.com`).\n",
        " \n",
        " "
      ]
    },
    {
      "metadata": {
        "id": "livXdtcvazn_",
        "colab_type": "text"
      },
      "cell_type": "markdown",
      "source": [
        "### La prima cosa: `git` deve essere configurato prima di usarlo\n",
        "\n",
        "L'inizializzazione minimale di `git` per iniziare a lavorare senza fastidi è quello di dirgli chi sei:"
      ]
    },
    {
      "metadata": {
        "id": "KTOTLdWRawwi",
        "colab_type": "code",
        "colab": {}
      },
      "cell_type": "code",
      "source": [
        "%%bash\n",
        "git config --global user.name \"Sandro Doro\"\n",
        "git config --global user.email \"doro.sandro@liceomorin.it\""
      ],
      "execution_count": 0,
      "outputs": []
    },
    {
      "metadata": {
        "id": "VJ8a0UjNqIDd",
        "colab_type": "text"
      },
      "cell_type": "markdown",
      "source": [
        "Per verificare l'effetto della precedente configurazione:"
      ]
    },
    {
      "metadata": {
        "id": "UqICUlaspsRU",
        "colab_type": "code",
        "outputId": "004c37a1-131d-4c09-bdac-4f7c7a107fb8",
        "colab": {
          "base_uri": "https://localhost:8080/",
          "height": 51
        }
      },
      "cell_type": "code",
      "source": [
        "! git config --list"
      ],
      "execution_count": 0,
      "outputs": [
        {
          "output_type": "stream",
          "text": [
            "user.name=Sandro Doro\n",
            "user.email=doro.sandro@liceomorin.it\n"
          ],
          "name": "stdout"
        }
      ]
    },
    {
      "metadata": {
        "id": "-DF5iKN4bcjW",
        "colab_type": "code",
        "outputId": "b00e8f0d-3025-46be-a01b-b255c0a35627",
        "colab": {
          "base_uri": "https://localhost:8080/",
          "height": 34
        }
      },
      "cell_type": "code",
      "source": [
        "# cella di aiuto per il ripristino dell'ambiente Colab\n",
        "\n",
        "% cd\n",
        "% rm -rf sandbox"
      ],
      "execution_count": 0,
      "outputs": [
        {
          "output_type": "stream",
          "text": [
            "/root\n"
          ],
          "name": "stdout"
        }
      ]
    },
    {
      "metadata": {
        "id": "SqmmtwaDq6lC",
        "colab_type": "code",
        "colab": {}
      },
      "cell_type": "code",
      "source": [
        "# per importare immagini in questo stesso notebook\n",
        "from IPython.display import Image"
      ],
      "execution_count": 0,
      "outputs": []
    },
    {
      "metadata": {
        "id": "ZfjoBB8joxo6",
        "colab_type": "text"
      },
      "cell_type": "markdown",
      "source": [
        "Per creare un nuovo repository vuoto, possiamo usare il comand `git init`\n"
      ]
    },
    {
      "metadata": {
        "id": "w9_he4Xubuqv",
        "colab_type": "code",
        "outputId": "fc5f3681-d0c2-4d08-d59b-967d33c18698",
        "colab": {
          "base_uri": "https://localhost:8080/",
          "height": 51
        }
      },
      "cell_type": "code",
      "source": [
        "# costruiamo una sandbox e creaiamo un repository vuoto\n",
        "% mkdir sandbox\n",
        "% cd sandbox\n",
        "# create a new git repository:\n",
        "! git init"
      ],
      "execution_count": 0,
      "outputs": [
        {
          "output_type": "stream",
          "text": [
            "/root/sandbox\n",
            "Initialized empty Git repository in /root/sandbox/.git/\n"
          ],
          "name": "stdout"
        }
      ]
    },
    {
      "metadata": {
        "id": "XYnkMnjXb-sr",
        "colab_type": "code",
        "outputId": "78247f92-4e7d-4eaa-9881-7bbf76152a97",
        "colab": {
          "base_uri": "https://localhost:8080/",
          "height": 459
        }
      },
      "cell_type": "code",
      "source": [
        "! find ."
      ],
      "execution_count": 0,
      "outputs": [
        {
          "output_type": "stream",
          "text": [
            ".\n",
            "./.git\n",
            "./.git/branches\n",
            "./.git/hooks\n",
            "./.git/hooks/pre-rebase.sample\n",
            "./.git/hooks/pre-applypatch.sample\n",
            "./.git/hooks/pre-push.sample\n",
            "./.git/hooks/prepare-commit-msg.sample\n",
            "./.git/hooks/commit-msg.sample\n",
            "./.git/hooks/fsmonitor-watchman.sample\n",
            "./.git/hooks/pre-receive.sample\n",
            "./.git/hooks/applypatch-msg.sample\n",
            "./.git/hooks/pre-commit.sample\n",
            "./.git/hooks/post-update.sample\n",
            "./.git/hooks/update.sample\n",
            "./.git/refs\n",
            "./.git/refs/heads\n",
            "./.git/refs/tags\n",
            "./.git/config\n",
            "./.git/objects\n",
            "./.git/objects/pack\n",
            "./.git/objects/info\n",
            "./.git/HEAD\n",
            "./.git/info\n",
            "./.git/info/exclude\n",
            "./.git/description\n"
          ],
          "name": "stdout"
        }
      ]
    },
    {
      "metadata": {
        "id": "Cly3QXFopGVh",
        "colab_type": "text"
      },
      "cell_type": "markdown",
      "source": [
        "Se vogliamo fare il `fork` o il `clone` di un repository esistente, possiamo usare il comando `git clone repository`:\n",
        "\n"
      ]
    },
    {
      "metadata": {
        "id": "Rtjn8a2ppFwg",
        "colab_type": "code",
        "outputId": "7c023a32-8d47-4e60-af8e-4db499f3d327",
        "colab": {
          "base_uri": "https://localhost:8080/",
          "height": 102
        }
      },
      "cell_type": "code",
      "source": [
        "! git clone https://github.com/qutip/qutip"
      ],
      "execution_count": 0,
      "outputs": [
        {
          "output_type": "stream",
          "text": [
            "Cloning into 'qutip'...\n",
            "remote: Enumerating objects: 24546, done.\u001b[K\n",
            "remote: Total 24546 (delta 0), reused 0 (delta 0), pack-reused 24546\u001b[K\n",
            "Receiving objects: 100% (24546/24546), 18.48 MiB | 22.37 MiB/s, done.\n",
            "Resolving deltas: 100% (16631/16631), done.\n"
          ],
          "name": "stdout"
        }
      ]
    },
    {
      "metadata": {
        "id": "se-VdXdIcXqY",
        "colab_type": "text"
      },
      "cell_type": "markdown",
      "source": [
        "Costruiamo il nostro primo file (normalmente si usa un editor di file di testo) a mano:\n"
      ]
    },
    {
      "metadata": {
        "id": "1_OwV3j6cWWI",
        "colab_type": "code",
        "colab": {}
      },
      "cell_type": "code",
      "source": [
        "! echo \"My first bit of text\" > file1.txt"
      ],
      "execution_count": 0,
      "outputs": []
    },
    {
      "metadata": {
        "id": "ZlfQWv5jdMXE",
        "colab_type": "text"
      },
      "cell_type": "markdown",
      "source": [
        "Informiamo `git` di questo nuovo file:"
      ]
    },
    {
      "metadata": {
        "id": "AltX4tyUcs3b",
        "colab_type": "code",
        "colab": {}
      },
      "cell_type": "code",
      "source": [
        "! git add file1.txt"
      ],
      "execution_count": 0,
      "outputs": []
    },
    {
      "metadata": {
        "id": "6aF9WHusdU2B",
        "colab_type": "text"
      },
      "cell_type": "markdown",
      "source": [
        "chiediamo a `git` di informarci sul suo `status`:"
      ]
    },
    {
      "metadata": {
        "id": "vJEN6QHocz6P",
        "colab_type": "code",
        "outputId": "64813e19-1f8b-47ef-d8ac-7bb6b3c530fd",
        "colab": {
          "base_uri": "https://localhost:8080/",
          "height": 255
        }
      },
      "cell_type": "code",
      "source": [
        "! git status"
      ],
      "execution_count": 0,
      "outputs": [
        {
          "output_type": "stream",
          "text": [
            "On branch master\n",
            "\n",
            "No commits yet\n",
            "\n",
            "Changes to be committed:\n",
            "  (use \"git rm --cached <file>...\" to unstage)\n",
            "\n",
            "\t\u001b[32mnew file:   file1.txt\u001b[m\n",
            "\n",
            "Untracked files:\n",
            "  (use \"git add <file>...\" to include in what will be committed)\n",
            "\n",
            "\t\u001b[31mqutip/\u001b[m\n",
            "\n"
          ],
          "name": "stdout"
        }
      ]
    },
    {
      "metadata": {
        "id": "rYP92VVhdbGF",
        "colab_type": "text"
      },
      "cell_type": "markdown",
      "source": [
        "registriamo permanentemente le variazioni nel database di `git`:"
      ]
    },
    {
      "metadata": {
        "id": "w59q4HTyc7e8",
        "colab_type": "code",
        "outputId": "1cc62e36-7102-4ef6-f54b-07c09a08f38e",
        "colab": {
          "base_uri": "https://localhost:8080/",
          "height": 68
        }
      },
      "cell_type": "code",
      "source": [
        "! git commit -m \"This is our first commit\""
      ],
      "execution_count": 0,
      "outputs": [
        {
          "output_type": "stream",
          "text": [
            "[master (root-commit) 0275d24] This is our first commit\n",
            " 1 file changed, 1 insertion(+)\n",
            " create mode 100644 file1.txt\n"
          ],
          "name": "stdout"
        }
      ]
    },
    {
      "metadata": {
        "id": "EIYSnkMudyRy",
        "colab_type": "text"
      },
      "cell_type": "markdown",
      "source": [
        "controlliamo lo `status`:"
      ]
    },
    {
      "metadata": {
        "id": "8cZF98tQdAsl",
        "colab_type": "code",
        "outputId": "7398ab99-4a3e-4056-a223-d230adc1b822",
        "colab": {
          "base_uri": "https://localhost:8080/",
          "height": 51
        }
      },
      "cell_type": "code",
      "source": [
        "! git status"
      ],
      "execution_count": 0,
      "outputs": [
        {
          "output_type": "stream",
          "text": [
            "On branch master\n",
            "nothing to commit, working tree clean\n"
          ],
          "name": "stdout"
        }
      ]
    },
    {
      "metadata": {
        "id": "CULV_pWPeJp1",
        "colab_type": "text"
      },
      "cell_type": "markdown",
      "source": [
        "Lista di tutti i `commit` ordinati fino adesso:"
      ]
    },
    {
      "metadata": {
        "id": "ifEom4D_ePgq",
        "colab_type": "code",
        "outputId": "3e0e41af-07af-4285-977c-44f38f6a67cd",
        "colab": {
          "base_uri": "https://localhost:8080/",
          "height": 102
        }
      },
      "cell_type": "code",
      "source": [
        "! git log"
      ],
      "execution_count": 0,
      "outputs": [
        {
          "output_type": "stream",
          "text": [
            "\u001b[33mcommit 8f8d2371af6782a42e832a0763e6556ceaeed3e6\u001b[m\u001b[33m (\u001b[m\u001b[1;36mHEAD -> \u001b[m\u001b[1;32mmaster\u001b[m\u001b[33m)\u001b[m\n",
            "Author: Sandro Doro <doro.sandro@liceomorin.net>\n",
            "Date:   Tue Jan 15 21:42:59 2019 +0000\n",
            "\n",
            "    This is our first commit\n"
          ],
          "name": "stdout"
        }
      ]
    },
    {
      "metadata": {
        "id": "i6vDVYkagvfk",
        "colab_type": "code",
        "outputId": "552ce8be-3262-4192-de2c-d02ad2f5e196",
        "colab": {
          "base_uri": "https://localhost:8080/",
          "height": 34
        }
      },
      "cell_type": "code",
      "source": [
        "%%file README\n",
        "\n",
        "A file with information about the gitdemo repository."
      ],
      "execution_count": 0,
      "outputs": [
        {
          "output_type": "stream",
          "text": [
            "Writing README\n"
          ],
          "name": "stdout"
        }
      ]
    },
    {
      "metadata": {
        "id": "XEmJQhAOg2L8",
        "colab_type": "code",
        "outputId": "59e66e42-925a-41d2-bb85-882906d0eaff",
        "colab": {
          "base_uri": "https://localhost:8080/",
          "height": 51
        }
      },
      "cell_type": "code",
      "source": [
        "! cat README"
      ],
      "execution_count": 0,
      "outputs": [
        {
          "output_type": "stream",
          "text": [
            "\n",
            "A file with information about the gitdemo repository."
          ],
          "name": "stdout"
        }
      ]
    }
  ]
}