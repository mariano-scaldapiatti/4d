{
  "nbformat": 4,
  "nbformat_minor": 0,
  "metadata": {
    "colab": {
      "name": "Esercizio git/ branch .ipynb",
      "version": "0.3.2",
      "provenance": [],
      "collapsed_sections": [],
      "include_colab_link": true
    },
    "kernelspec": {
      "name": "python3",
      "display_name": "Python 3"
    }
  },
  "cells": [
    {
      "cell_type": "markdown",
      "metadata": {
        "id": "view-in-github",
        "colab_type": "text"
      },
      "source": [
        "<a href=\"https://colab.research.google.com/github/mariano-scaldapiatti/4d/blob/master/Esercizio_git_branch_.ipynb\" target=\"_parent\"><img src=\"https://colab.research.google.com/assets/colab-badge.svg\" alt=\"Open In Colab\"/></a>"
      ]
    },
    {
      "metadata": {
        "id": "hoqIyth8tmIP",
        "colab_type": "code",
        "outputId": "87f95c8e-5154-49c3-d5af-c2ed15868b66",
        "colab": {
          "base_uri": "https://localhost:8080/",
          "height": 35
        }
      },
      "cell_type": "code",
      "source": [
        "% cd\n",
        "% rm -rf primoBranch"
      ],
      "execution_count": 0,
      "outputs": [
        {
          "output_type": "stream",
          "text": [
            "/root\n"
          ],
          "name": "stdout"
        }
      ]
    },
    {
      "metadata": {
        "id": "ROBEuSblua_U",
        "colab_type": "code",
        "outputId": "f7d797a2-a7b8-4cfa-d297-834a92f6c4e4",
        "colab": {
          "base_uri": "https://localhost:8080/",
          "height": 53
        }
      },
      "cell_type": "code",
      "source": [
        "%%bash\n",
        "git config --global user.name \"vivictoria\"\n",
        "git config --global user.email \"victoria.stupai@liceomorin.it\"\n",
        "git config --list"
      ],
      "execution_count": 0,
      "outputs": [
        {
          "output_type": "stream",
          "text": [
            "user.name=vivictoria\n",
            "user.email=victoria.stupai@liceomorin.it\n"
          ],
          "name": "stdout"
        }
      ]
    },
    {
      "metadata": {
        "id": "E4vl1BmAui2C",
        "colab_type": "code",
        "outputId": "d422f2e6-9caa-44e3-b0cf-9b70889d3943",
        "colab": {
          "base_uri": "https://localhost:8080/",
          "height": 53
        }
      },
      "cell_type": "code",
      "source": [
        "% mkdir primoBranch\n",
        "% cd primoBranch\n",
        "! git init "
      ],
      "execution_count": 0,
      "outputs": [
        {
          "output_type": "stream",
          "text": [
            "/root/primoBranch\n",
            "Initialized empty Git repository in /root/primoBranch/.git/\n"
          ],
          "name": "stdout"
        }
      ]
    },
    {
      "metadata": {
        "id": "Z_LHhkEOuoUZ",
        "colab_type": "code",
        "outputId": "fd8fae84-6496-472b-c95e-395f2146c968",
        "colab": {
          "base_uri": "https://localhost:8080/",
          "height": 71
        }
      },
      "cell_type": "code",
      "source": [
        "! echo \"0.\" > file.txt\n",
        "! git add file.txt\n",
        "! git commit -m \"C0\""
      ],
      "execution_count": 0,
      "outputs": [
        {
          "output_type": "stream",
          "text": [
            "[master (root-commit) 3b35383] C0\n",
            " 1 file changed, 1 insertion(+)\n",
            " create mode 100644 file.txt\n"
          ],
          "name": "stdout"
        }
      ]
    },
    {
      "metadata": {
        "id": "7EgyzwMVwZTz",
        "colab_type": "code",
        "outputId": "52711985-fb15-4d3f-c151-df2ea018a094",
        "colab": {
          "base_uri": "https://localhost:8080/",
          "height": 53
        }
      },
      "cell_type": "code",
      "source": [
        "! echo \"1.\" > file.txt\n",
        "! git add file.txt\n",
        "! git commit -m \"C1\""
      ],
      "execution_count": 0,
      "outputs": [
        {
          "output_type": "stream",
          "text": [
            "[master edfa1b1] C1\n",
            " 1 file changed, 1 insertion(+), 1 deletion(-)\n"
          ],
          "name": "stdout"
        }
      ]
    },
    {
      "metadata": {
        "id": "2yMqq6uWwimN",
        "colab_type": "code",
        "outputId": "8566e636-b94d-4b80-a0ab-84fce06f5bdf",
        "colab": {
          "base_uri": "https://localhost:8080/",
          "height": 88
        }
      },
      "cell_type": "code",
      "source": [
        "! git shortlog "
      ],
      "execution_count": 0,
      "outputs": [
        {
          "output_type": "stream",
          "text": [
            "vivictoria (2):\n",
            "      C0\n",
            "      C1\n",
            "\n"
          ],
          "name": "stdout"
        }
      ]
    },
    {
      "metadata": {
        "id": "tpaAG59OwrnK",
        "colab_type": "code",
        "outputId": "ba3272b7-825a-4044-8331-e40fcb77e7c8",
        "colab": {
          "base_uri": "https://localhost:8080/",
          "height": 71
        }
      },
      "cell_type": "code",
      "source": [
        "! git checkout -b SPORT \n",
        "! echo \"2.\" >> file.txt\n",
        "! git add file.txt\n",
        "! git commit -m \"C2\"\n"
      ],
      "execution_count": 0,
      "outputs": [
        {
          "output_type": "stream",
          "text": [
            "Switched to a new branch 'SPORT'\n",
            "[SPORT 48b4a95] C2\n",
            " 1 file changed, 1 insertion(+)\n"
          ],
          "name": "stdout"
        }
      ]
    },
    {
      "metadata": {
        "id": "een56fnQxB6x",
        "colab_type": "code",
        "outputId": "c531b11a-be1f-45df-c469-522d6bda7a9d",
        "colab": {
          "base_uri": "https://localhost:8080/",
          "height": 53
        }
      },
      "cell_type": "code",
      "source": [
        "! echo \"3.\" >> file.txt\n",
        "! git add file.txt\n",
        "! git commit -m \"C3\""
      ],
      "execution_count": 0,
      "outputs": [
        {
          "output_type": "stream",
          "text": [
            "[SPORT 2dc8496] C3\n",
            " 1 file changed, 1 insertion(+)\n"
          ],
          "name": "stdout"
        }
      ]
    },
    {
      "metadata": {
        "id": "8AgTGMdYxH77",
        "colab_type": "code",
        "outputId": "14262006-08da-458f-9715-403b3aefec99",
        "colab": {
          "base_uri": "https://localhost:8080/",
          "height": 124
        }
      },
      "cell_type": "code",
      "source": [
        "! git shortlog "
      ],
      "execution_count": 0,
      "outputs": [
        {
          "output_type": "stream",
          "text": [
            "vivictoria (4):\n",
            "      C0\n",
            "      C1\n",
            "      C2\n",
            "      C3\n",
            "\n"
          ],
          "name": "stdout"
        }
      ]
    },
    {
      "metadata": {
        "id": "7j0XDd1qxJya",
        "colab_type": "code",
        "outputId": "6c7f9141-2ffa-4e53-cb12-b83e6af6d443",
        "colab": {
          "base_uri": "https://localhost:8080/",
          "height": 71
        }
      },
      "cell_type": "code",
      "source": [
        "! git checkout master\n",
        "! echo \"4.\" >> file.txt\n",
        "! git add file.txt\n",
        "! git commit -m \"C4\""
      ],
      "execution_count": 0,
      "outputs": [
        {
          "output_type": "stream",
          "text": [
            "Switched to branch 'master'\n",
            "[master 17a0e7e] C4\n",
            " 1 file changed, 1 insertion(+)\n"
          ],
          "name": "stdout"
        }
      ]
    },
    {
      "metadata": {
        "id": "TSR6RZHZxeQU",
        "colab_type": "code",
        "outputId": "9b65914e-a65d-40ed-a9b9-6d700a62739a",
        "colab": {
          "base_uri": "https://localhost:8080/",
          "height": 71
        }
      },
      "cell_type": "code",
      "source": [
        "! git checkout -b ABARTH \n",
        "! echo \"5.\" >> file.txt\n",
        "! git add file.txt\n",
        "! git commit -m \"C5\""
      ],
      "execution_count": 0,
      "outputs": [
        {
          "output_type": "stream",
          "text": [
            "Switched to a new branch 'ABARTH'\n",
            "[ABARTH 9a1fbf7] C5\n",
            " 1 file changed, 1 insertion(+)\n"
          ],
          "name": "stdout"
        }
      ]
    },
    {
      "metadata": {
        "id": "gSo54NKtxxqT",
        "colab_type": "code",
        "outputId": "6a68efbd-5c58-4d74-d8d4-94b601aa5b37",
        "colab": {
          "base_uri": "https://localhost:8080/",
          "height": 53
        }
      },
      "cell_type": "code",
      "source": [
        "! echo \"6.\" >> file.txt\n",
        "! git add file.txt\n",
        "! git commit -m \"C6\""
      ],
      "execution_count": 0,
      "outputs": [
        {
          "output_type": "stream",
          "text": [
            "[ABARTH 36a48d4] C6\n",
            " 1 file changed, 1 insertion(+)\n"
          ],
          "name": "stdout"
        }
      ]
    },
    {
      "metadata": {
        "id": "vARVydkEx_MI",
        "colab_type": "code",
        "outputId": "1223e0ee-63b2-4d53-9c0e-ca1d4e46ff6f",
        "colab": {
          "base_uri": "https://localhost:8080/",
          "height": 71
        }
      },
      "cell_type": "code",
      "source": [
        "! git checkout master\n",
        "! echo \"7.\" >> file.txt\n",
        "! git add file.txt\n",
        "! git commit -m \"C7\""
      ],
      "execution_count": 0,
      "outputs": [
        {
          "output_type": "stream",
          "text": [
            "Switched to branch 'master'\n",
            "[master 63ad07e] C7\n",
            " 1 file changed, 1 insertion(+)\n"
          ],
          "name": "stdout"
        }
      ]
    },
    {
      "metadata": {
        "id": "tf-wxV3uyF8E",
        "colab_type": "code",
        "outputId": "8b2703a4-1db7-45e2-c745-595ea1b80d36",
        "colab": {
          "base_uri": "https://localhost:8080/",
          "height": 53
        }
      },
      "cell_type": "code",
      "source": [
        "! echo \"8.\" >> file.txt\n",
        "! git add file.txt\n",
        "! git commit -m \"C8\""
      ],
      "execution_count": 0,
      "outputs": [
        {
          "output_type": "stream",
          "text": [
            "[master 30ebf61] C8\n",
            " 1 file changed, 1 insertion(+)\n"
          ],
          "name": "stdout"
        }
      ]
    },
    {
      "metadata": {
        "id": "r5H60O5RyLW7",
        "colab_type": "code",
        "outputId": "6f903ab4-8893-4472-db6a-79149a346480",
        "colab": {
          "base_uri": "https://localhost:8080/",
          "height": 71
        }
      },
      "cell_type": "code",
      "source": [
        "! git checkout -b TURBO\n",
        "! echo \"9.\" >> file.txt\n",
        "! git add file.txt\n",
        "! git commit -m \"C9\""
      ],
      "execution_count": 0,
      "outputs": [
        {
          "output_type": "stream",
          "text": [
            "Switched to a new branch 'TURBO'\n",
            "[TURBO acd086c] C9\n",
            " 1 file changed, 1 insertion(+)\n"
          ],
          "name": "stdout"
        }
      ]
    },
    {
      "metadata": {
        "id": "7j2EuhJQyTyw",
        "colab_type": "code",
        "outputId": "924c19bf-ed1c-4679-a6ac-24544b1221a3",
        "colab": {
          "base_uri": "https://localhost:8080/",
          "height": 178
        }
      },
      "cell_type": "code",
      "source": [
        "! echo \"10.\" >> file.txt\n",
        "! git add file.txt\n",
        "! echo -----------------------------------------\n",
        "! cat file.txt\n",
        "! git commit -m \"C10\""
      ],
      "execution_count": 0,
      "outputs": [
        {
          "output_type": "stream",
          "text": [
            "-----------------------------------------\n",
            "1.\n",
            "4.\n",
            "7.\n",
            "8.\n",
            "9.\n",
            "10.\n",
            "[TURBO 785d644] C10\n",
            " 1 file changed, 1 insertion(+)\n"
          ],
          "name": "stdout"
        }
      ]
    },
    {
      "metadata": {
        "id": "oDc7lxfCybgB",
        "colab_type": "code",
        "outputId": "10551145-c53a-4cfd-cd3a-111e9f9aaf9b",
        "colab": {
          "base_uri": "https://localhost:8080/",
          "height": 267
        }
      },
      "cell_type": "code",
      "source": [
        "! git checkout master\n",
        "! echo \"11.\" >> file.txt\n",
        "! echo -----------------------------------------\n",
        "! cat file.txt\n",
        "! git commit -m \"C11\""
      ],
      "execution_count": 0,
      "outputs": [
        {
          "output_type": "stream",
          "text": [
            "M\tfile.txt\n",
            "Already on 'master'\n",
            "-----------------------------------------\n",
            "1.\n",
            "4.\n",
            "7.\n",
            "8.\n",
            "11.\n",
            "11.\n",
            "On branch master\n",
            "Changes not staged for commit:\n",
            "\t\u001b[31mmodified:   file.txt\u001b[m\n",
            "\n",
            "no changes added to commit\n"
          ],
          "name": "stdout"
        }
      ]
    },
    {
      "metadata": {
        "id": "1Mwpjz6eyqT_",
        "colab_type": "code",
        "outputId": "22beb897-eba9-4ada-d797-876707fa6803",
        "colab": {
          "base_uri": "https://localhost:8080/",
          "height": 267
        }
      },
      "cell_type": "code",
      "source": [
        "! git checkout SPORT\n",
        "! echo \"12.\" >> file.txt\n",
        "! git add file.txt\n",
        "! echo -----------------------------------------\n",
        "! cat file.txt\n",
        "! git commit -m \"C12\""
      ],
      "execution_count": 0,
      "outputs": [
        {
          "output_type": "stream",
          "text": [
            "error: Your local changes to the following files would be overwritten by checkout:\n",
            "\tfile.txt\n",
            "Please commit your changes or stash them before you switch branches.\n",
            "Aborting\n",
            "-----------------------------------------\n",
            "1.\n",
            "4.\n",
            "7.\n",
            "8.\n",
            "11.\n",
            "11.\n",
            "12.\n",
            "[master b874248] C12\n",
            " 1 file changed, 3 insertions(+)\n"
          ],
          "name": "stdout"
        }
      ]
    },
    {
      "metadata": {
        "id": "Fte0EnRmy5eO",
        "colab_type": "code",
        "outputId": "b5f79ba0-3ce7-40fb-a9a1-a4a55ecb1088",
        "colab": {
          "base_uri": "https://localhost:8080/",
          "height": 178
        }
      },
      "cell_type": "code",
      "source": [
        "! git checkout ABARTH\n",
        "! echo \"13.\" >> file.txt\n",
        "! echo -----------------------------------------\n",
        "! cat file.txt\n",
        "! git add file.txt\n",
        "! git commit -m \"C13\""
      ],
      "execution_count": 0,
      "outputs": [
        {
          "output_type": "stream",
          "text": [
            "Switched to branch 'ABARTH'\n",
            "-----------------------------------------\n",
            "1.\n",
            "4.\n",
            "5.\n",
            "6.\n",
            "13.\n",
            "[ABARTH 8a5ca5a] C13\n",
            " 1 file changed, 1 insertion(+)\n"
          ],
          "name": "stdout"
        }
      ]
    }
  ]
}