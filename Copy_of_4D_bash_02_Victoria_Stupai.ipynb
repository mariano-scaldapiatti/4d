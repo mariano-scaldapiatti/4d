{
  "nbformat": 4,
  "nbformat_minor": 0,
  "metadata": {
    "colab": {
      "name": "Copy of  4D-bash-02_Victoria_Stupai.ipynb",
      "version": "0.3.2",
      "provenance": [],
      "collapsed_sections": [],
      "include_colab_link": true
    },
    "kernelspec": {
      "name": "python3",
      "display_name": "Python 3"
    }
  },
  "cells": [
    {
      "cell_type": "markdown",
      "metadata": {
        "id": "view-in-github",
        "colab_type": "text"
      },
      "source": [
        "<a href=\"https://colab.research.google.com/github/mariano-scaldapiatti/4d/blob/master/Copy_of_4D_bash_02_Victoria_Stupai.ipynb\" target=\"_parent\"><img src=\"https://colab.research.google.com/assets/colab-badge.svg\" alt=\"Open In Colab\"/></a>"
      ]
    },
    {
      "metadata": {
        "id": "5sEyzsUMPNsB",
        "colab_type": "text"
      },
      "cell_type": "markdown",
      "source": [
        "### Esercitazione sulla bash (solo comandi di costruzione)\n",
        "\n",
        "1.  costruire una cartella di nome `partenza`\n",
        "\n",
        "2.  costruire tre sottodirectory: `corta`, `media` e `lunga`\n",
        "\n",
        "3.  entra nella directory `corta`\n",
        "\n",
        "4.  genera un file di nome `f1.txt` e scrivici dentro '`pippo`'\n",
        "\n",
        "5.  genera una directory di nome `g`\n",
        "\n",
        "6.  costruisce all'interno di `g` un file di nome `f2.txt` e scrivici '`pluto`'\n",
        "\n",
        "7.  entra nella directory `media` con il cammino più lungo\n",
        "\n",
        "8.  costruisci una sotto directory di nome `m`\n",
        "\n",
        "9.  genera dentro ad `m` due file di nome `f5.txt` ed `f6.txt` con contenuto rispettivamente '`paperino`' e '`archimede`'\n",
        "\n",
        "10.  entra nella directory `partenza` e genera il file `f3.txt` all'interno della directory di nome `lunga` con contenuto '`FINE`'."
      ]
    },
    {
      "metadata": {
        "id": "3vpN87G8x96i",
        "colab_type": "text"
      },
      "cell_type": "markdown",
      "source": [
        "Proporre la soluzione in coda a questa cella adottando **una delle due** modalità:\n",
        "* una cella di CODE per **ogni passo numerato** (riportando il numero del passo)\n",
        "* un'unica cella di CODE con tutti i passi MA con **commentato il passo** che si sta risolvendo.\n",
        "\n",
        "Non eseguire comandi non richiesti se non per visualizzare alla fine il risultato raggiunto (che comunque si può fare in una cella separata)."
      ]
    },
    {
      "metadata": {
        "id": "HuhTGVYLZ1Ai",
        "colab_type": "code",
        "colab": {}
      },
      "cell_type": "code",
      "source": [
        "%%bash\n",
        "#rm -rf partenza\n",
        "\n",
        "#1\n",
        "mkdir partenza  \n",
        "\n",
        "#2\n",
        "mkdir partenza/corta \n",
        "mkdir partenza/media\n",
        "mkdir partenza/lunga\n",
        "\n",
        "#3 & 4\n",
        "echo 'pippo' > partenza/corta/f1.txt\n",
        "\n",
        "#5\n",
        "mkdir partenza/corta/g\n",
        "\n",
        "#6\n",
        "echo 'pluto' > partenza/corta/g/f2.txt\n",
        "\n",
        "#7 & 8\n",
        "mkdir partenza/media/m\n",
        "\n",
        "#9\n",
        "echo 'paperino' > partenza/media/m/f5.txt\n",
        "echo 'archimede' > partenza/media/m/f6.txt\n",
        "\n",
        "#10\n",
        "echo 'FINE' > partenza/lunga/f3.txt\n",
        "\n"
      ],
      "execution_count": 0,
      "outputs": []
    },
    {
      "metadata": {
        "id": "Zr2TZsiCcbvN",
        "colab_type": "code",
        "outputId": "923c8eb3-af10-4992-a365-0e95cad211b9",
        "colab": {
          "base_uri": "https://localhost:8080/",
          "height": 204
        }
      },
      "cell_type": "code",
      "source": [
        "%%bash\n",
        "\n",
        "find partenza\n"
      ],
      "execution_count": 0,
      "outputs": [
        {
          "output_type": "stream",
          "text": [
            "partenza\n",
            "partenza/media\n",
            "partenza/media/m\n",
            "partenza/media/m/f5.txt\n",
            "partenza/media/m/f6.txt\n",
            "partenza/lunga\n",
            "partenza/lunga/f3.txt\n",
            "partenza/corta\n",
            "partenza/corta/f1.txt\n",
            "partenza/corta/g\n",
            "partenza/corta/g/f2.txt\n"
          ],
          "name": "stdout"
        }
      ]
    }
  ]
}