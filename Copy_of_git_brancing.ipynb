{
  "nbformat": 4,
  "nbformat_minor": 0,
  "metadata": {
    "colab": {
      "name": "Copy of git-brancing.ipynb",
      "version": "0.3.2",
      "provenance": [],
      "collapsed_sections": [],
      "include_colab_link": true
    },
    "kernelspec": {
      "name": "python3",
      "display_name": "Python 3"
    }
  },
  "cells": [
    {
      "cell_type": "markdown",
      "metadata": {
        "id": "view-in-github",
        "colab_type": "text"
      },
      "source": [
        "<a href=\"https://colab.research.google.com/github/mariano-scaldapiatti/4d/blob/master/Copy_of_git_brancing.ipynb\" target=\"_parent\"><img src=\"https://colab.research.google.com/assets/colab-badge.svg\" alt=\"Open In Colab\"/></a>"
      ]
    },
    {
      "metadata": {
        "id": "9Zesc_zECzae",
        "colab_type": "text"
      },
      "cell_type": "markdown",
      "source": [
        " ### Branching\n",
        "\n",
        "In questo notebook faremo delle prove di branching con un repository di nome `primoBranch`. Mettiamo prima le celle di tipo \"utility\" per inizializzare o cancellare/ripristinare l'ambiente."
      ]
    },
    {
      "metadata": {
        "id": "Zm8qosHS9Vn3",
        "colab_type": "code",
        "outputId": "bfa9ff6c-aa58-4061-e2b7-79892a336652",
        "colab": {
          "base_uri": "https://localhost:8080/",
          "height": 35
        }
      },
      "cell_type": "code",
      "source": [
        "# 0. cella per il ripristino dell'ambiente;\n",
        "% cd\n",
        "% rm -rf primoBranch"
      ],
      "execution_count": 0,
      "outputs": [
        {
          "output_type": "stream",
          "text": [
            "/root\n"
          ],
          "name": "stdout"
        }
      ]
    },
    {
      "metadata": {
        "id": "qti7TTVl9n43",
        "colab_type": "code",
        "outputId": "7856e9fd-e562-4a29-f94a-6221eab5c543",
        "colab": {
          "base_uri": "https://localhost:8080/",
          "height": 53
        }
      },
      "cell_type": "code",
      "source": [
        "# 1. Passo configurazione dell'utente\n",
        "%%bash\n",
        "git config --global user.name \"vivictoria\"\n",
        "git config --global user.email \"victoria.stupai@liceomorin.it\"\n",
        "git config --list"
      ],
      "execution_count": 0,
      "outputs": [
        {
          "output_type": "stream",
          "text": [
            "user.name=vivictoria\n",
            "user.email=victoria.stupai@liceomorin.it\n"
          ],
          "name": "stdout"
        }
      ]
    },
    {
      "metadata": {
        "id": "Rq-EsMp49rHl",
        "colab_type": "code",
        "outputId": "dc15cf4b-f3ee-4d73-eced-00cd3f433a5c",
        "colab": {
          "base_uri": "https://localhost:8080/",
          "height": 53
        }
      },
      "cell_type": "code",
      "source": [
        "# 3. costruisci una directory di nome `primoBranch`, entraci e inizializza il repository;\n",
        "% mkdir primoBranch\n",
        "% cd primoBranch\n",
        "# create a new git repository:\n",
        "! git init #creazione repository vuoto"
      ],
      "execution_count": 0,
      "outputs": [
        {
          "output_type": "stream",
          "text": [
            "/root/primoBranch\n",
            "Initialized empty Git repository in /root/primoBranch/.git/\n"
          ],
          "name": "stdout"
        }
      ]
    },
    {
      "metadata": {
        "id": "Rd7Apief-LNu",
        "colab_type": "code",
        "outputId": "4e432241-309e-4d22-d647-604f3bf8db70",
        "colab": {
          "base_uri": "https://localhost:8080/",
          "height": 88
        }
      },
      "cell_type": "code",
      "source": [
        "# 4. modifica del repository\n",
        "! echo \"# Prova di brancing\" > README.md\n",
        "! echo \"### 1. Versione Principale\" >> README.md\n",
        "! echo \"1.\" > file1.txt\n",
        "! git add README.md file1.txt\n",
        "! git commit -m \"Prima modifica nel master\" #caricare nel database il file README.md e file1.txt"
      ],
      "execution_count": 0,
      "outputs": [
        {
          "output_type": "stream",
          "text": [
            "[master (root-commit) 521f4ce] Prima modifica nel master\n",
            " 2 files changed, 3 insertions(+)\n",
            " create mode 100644 README.md\n",
            " create mode 100644 file1.txt\n"
          ],
          "name": "stdout"
        }
      ]
    },
    {
      "metadata": {
        "id": "ORa2gXLv-QAO",
        "colab_type": "code",
        "outputId": "b8b04c82-fcac-4d99-e003-de3d87b89a3c",
        "colab": {
          "base_uri": "https://localhost:8080/",
          "height": 71
        }
      },
      "cell_type": "code",
      "source": [
        "# 5. lista commit\n",
        "! git shortlog #mostrare la history "
      ],
      "execution_count": 0,
      "outputs": [
        {
          "output_type": "stream",
          "text": [
            "vivictoria (1):\n",
            "      Prima modifica nel master\n",
            "\n"
          ],
          "name": "stdout"
        }
      ]
    },
    {
      "metadata": {
        "id": "mrC2jvyHB_mc",
        "colab_type": "code",
        "outputId": "3d1dc56c-0560-437b-f39b-94231949cdd6",
        "colab": {
          "base_uri": "https://localhost:8080/",
          "height": 71
        }
      },
      "cell_type": "code",
      "source": [
        "# 6. costruzione di un branch e modifica del repository (nella parte branch)\n",
        "! git checkout -b ver2 # checkout = copio i file; -b = branch ; ver2 = nome assegnato \n",
        "! echo \"### Versione branch\" >> README.md\n",
        "! echo \"2.\" >> file1.txt\n",
        "! git add README.md file1.txt\n",
        "! git commit -m \"Prima modifica nel brach\"\n"
      ],
      "execution_count": 0,
      "outputs": [
        {
          "output_type": "stream",
          "text": [
            "fatal: A branch named 'ver2' already exists.\n",
            "[ver2 e70a7ab] Prima modifica nel brach\n",
            " 2 files changed, 2 insertions(+)\n"
          ],
          "name": "stdout"
        }
      ]
    },
    {
      "metadata": {
        "id": "eQtmxE3h-gn8",
        "colab_type": "code",
        "outputId": "3b65d40d-8880-45b9-b12f-1411bfb299fa",
        "colab": {
          "base_uri": "https://localhost:8080/",
          "height": 106
        }
      },
      "cell_type": "code",
      "source": [
        "# 7. lista commit\n",
        "! git shortlog"
      ],
      "execution_count": 0,
      "outputs": [
        {
          "output_type": "stream",
          "text": [
            "vivictoria (3):\n",
            "      Prima modifica nel master\n",
            "      Prima modifica nel brach\n",
            "      Prima modifica nel brach\n",
            "\n"
          ],
          "name": "stdout"
        }
      ]
    },
    {
      "metadata": {
        "id": "T0REDpTjCiSa",
        "colab_type": "code",
        "outputId": "2532c688-7c30-4731-8e85-7b8952bc7c35",
        "colab": {
          "base_uri": "https://localhost:8080/",
          "height": 142
        }
      },
      "cell_type": "code",
      "source": [
        "# 8. modifica al master\n",
        "! git checkout master #copia del file principale (= master)\n",
        "! cat README.md\n",
        "! echo -----------------------------------------\n",
        "! cat file1.txt\n",
        "! echo \"### Altra modifica nel master\" >> README.md\n",
        "! echo \"3.\" >> file1.txt\n",
        "! git add README.md file1.txt\n",
        "! git commit -m \"Seconda modifica nel master\""
      ],
      "execution_count": 0,
      "outputs": [
        {
          "output_type": "stream",
          "text": [
            "Switched to branch 'master'\n",
            "# Prova di brancing\n",
            "### 1. Versione Principale\n",
            "-----------------------------------------\n",
            "1.\n",
            "[master 2146f6c] Seconda modifica nel master\n",
            " 2 files changed, 2 insertions(+)\n"
          ],
          "name": "stdout"
        }
      ]
    },
    {
      "metadata": {
        "id": "Cv5f0vWrCkJ_",
        "colab_type": "code",
        "outputId": "bf6a4310-9482-4dc7-e5ff-a471aeda2bd6",
        "colab": {
          "base_uri": "https://localhost:8080/",
          "height": 231
        }
      },
      "cell_type": "code",
      "source": [
        "# 9. modifica al branch\n",
        "! git checkout ver2\n",
        "! cat README.md\n",
        "! echo -----------------------------------------\n",
        "! cat file1.txt\n",
        "! echo \"### Altra modifica nel branch\" >> README.md\n",
        "! echo \"4.\" >> file1.txt\n",
        "! git add README.md file1.txt\n",
        "! echo -----------------------------------------\n",
        "! git commit -m \"Seconda modifica nel branch\""
      ],
      "execution_count": 0,
      "outputs": [
        {
          "output_type": "stream",
          "text": [
            "Switched to branch 'ver2'\n",
            "# Prova di brancing\n",
            "### 1. Versione Principale\n",
            "### Versione branch\n",
            "### Versione branch\n",
            "-----------------------------------------\n",
            "1.\n",
            "2.\n",
            "2.\n",
            "-----------------------------------------\n",
            "[ver2 08574fe] Seconda modifica nel branch\n",
            " 2 files changed, 2 insertions(+)\n"
          ],
          "name": "stdout"
        }
      ]
    },
    {
      "metadata": {
        "id": "_XsQ35YhCmky",
        "colab_type": "code",
        "outputId": "d4ed1e90-d6b7-4cfe-90b2-bd6d4bd2fece",
        "colab": {
          "base_uri": "https://localhost:8080/",
          "height": 106
        }
      },
      "cell_type": "code",
      "source": [
        "# 10. lista commit\n",
        "! git shortlog"
      ],
      "execution_count": 0,
      "outputs": [
        {
          "output_type": "stream",
          "text": [
            "vivictoria (3):\n",
            "      Prima modifica nel master\n",
            "      Prima modifica nel brach\n",
            "      Seconda modifica nel branch\n",
            "\n"
          ],
          "name": "stdout"
        }
      ]
    },
    {
      "metadata": {
        "id": "qnKqY8YFH3Qs",
        "colab_type": "code",
        "outputId": "28288f7b-5a58-4f2d-843a-75de22244a47",
        "colab": {
          "base_uri": "https://localhost:8080/",
          "height": 125
        }
      },
      "cell_type": "code",
      "source": [
        "# 11. rappresentazione grafica di TUTTI i commit effettuati\n",
        "from IPython.display import Image\n",
        "Image(url='https://raw.githubusercontent.com/sdoro/images/master/git/branching.png')"
      ],
      "execution_count": 0,
      "outputs": [
        {
          "output_type": "execute_result",
          "data": {
            "text/html": [
              "<img src=\"https://raw.githubusercontent.com/sdoro/images/master/git/branching.png\"/>"
            ],
            "text/plain": [
              "<IPython.core.display.Image object>"
            ]
          },
          "metadata": {
            "tags": []
          },
          "execution_count": 11
        }
      ]
    },
    {
      "metadata": {
        "id": "15-5OQMyKyC7",
        "colab_type": "text"
      },
      "cell_type": "markdown",
      "source": [
        "### Esercizio di riflessione sulla gestione delle versioni\n",
        "\n",
        "Rispondere alle seguenti domande (e riportare su classroom):\n",
        "1. al passo 9 prima del commit che cosa contiene il file `file1.txt` ? e dopo il run della cella?\n",
        "2. al passo 8 prima del commit che cosa contiene il file `file1.txt` ? e dopo il run della cella?\n",
        "3. al passo 6 prima del commit che cosa contiene il file `file1.txt` ? e dopo il run della cella?\n",
        "4. al termine del passo 9 che cosa contiene il file `README.md` ?\n",
        "5. al termine del passo 8 che cosa contiene il file `README.md` ?"
      ]
    },
    {
      "metadata": {
        "id": "A24BhQyMsuTI",
        "colab_type": "text"
      },
      "cell_type": "markdown",
      "source": [
        "1) "
      ]
    },
    {
      "metadata": {
        "id": "ryw7WHGHsS8r",
        "colab_type": "text"
      },
      "cell_type": "markdown",
      "source": [
        "Il checkout serve per iniziare un lavoro in un branch , il lavoro può essere nuovo ( opzione o flag, -b) o esistente.\n",
        "\n",
        "Creare un nuovo branch o posizionarsi in un vecchio branch. "
      ]
    }
  ]
}