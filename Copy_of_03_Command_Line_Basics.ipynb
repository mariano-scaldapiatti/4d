{
  "nbformat": 4,
  "nbformat_minor": 0,
  "metadata": {
    "colab": {
      "name": "Copy of 03-Command-Line-Basics.ipynb",
      "version": "0.3.2",
      "provenance": [],
      "collapsed_sections": [],
      "include_colab_link": true
    },
    "kernelspec": {
      "name": "python3",
      "display_name": "Python 3"
    }
  },
  "cells": [
    {
      "cell_type": "markdown",
      "metadata": {
        "id": "view-in-github",
        "colab_type": "text"
      },
      "source": [
        "<a href=\"https://colab.research.google.com/github/mariano-scaldapiatti/4d/blob/master/Copy_of_03_Command_Line_Basics.ipynb\" target=\"_parent\"><img src=\"https://colab.research.google.com/assets/colab-badge.svg\" alt=\"Open In Colab\"/></a>"
      ]
    },
    {
      "metadata": {
        "id": "LqywjQ2jwsep",
        "colab_type": "text"
      },
      "cell_type": "markdown",
      "source": [
        "#  Command Line Basics\n",
        "Per lanciare un singolo comando di una sola riga basta farlo precedere da `%` mentre per lanciare un sequenza di più linee basta farlo precedere da `%%`.\n",
        "\n",
        "Per le nostre prove useremo uno o due `%%`  quando serve.\n",
        "\n",
        "Un altro modo per lanciare un comando è con `!` e la differenza di quando si usa il carattere `%` è che con `!` viene lanciato un nuovo processo e dunque non viene modificato il processo del notebook corrente.\n",
        "\n",
        "\n",
        "### Ambiente (root)\n",
        "\n",
        "La variabile d'ambiente di nome `HOME` per il super utente `root` vale `/root`.\n",
        "Il comando `cd` ci sposta su tale directory.\n",
        "\n"
      ]
    },
    {
      "metadata": {
        "id": "_CtEHSTF4hQ7",
        "colab_type": "text"
      },
      "cell_type": "markdown",
      "source": [
        "The `echo` command prints a phrase to the console. Enter `echo 'Hello World!' `into the command line to see what happens:"
      ]
    },
    {
      "metadata": {
        "id": "FR9eaxPe4jAo",
        "colab_type": "code",
        "outputId": "d39f095a-5907-4a02-a624-020422c99553",
        "colab": {
          "base_uri": "https://localhost:8080/",
          "height": 34
        }
      },
      "cell_type": "code",
      "source": [
        "!echo 'Hello World!'"
      ],
      "execution_count": 0,
      "outputs": [
        {
          "output_type": "stream",
          "text": [
            "Hello World!\n"
          ],
          "name": "stdout"
        }
      ]
    },
    {
      "metadata": {
        "id": "SiiR2wzD6YUw",
        "colab_type": "code",
        "outputId": "e1c7a007-f99f-43d1-cee4-04220125865e",
        "colab": {
          "base_uri": "https://localhost:8080/",
          "height": 255
        }
      },
      "cell_type": "code",
      "source": [
        "% cd\n",
        "% mkdir -p base\n",
        "% cd base\n",
        "# ---------------------------------------------\n",
        "% rm -rf /root/base/*\n",
        "# ------------------------------------------------\n",
        "% mkdir -p a b c d\n",
        "% ls \n",
        "% cd a\n",
        "% mkdir e f g\n",
        "% pwd\n",
        "!find /root/base\n",
        "% cd ~/base\n",
        "% pwd"
      ],
      "execution_count": 0,
      "outputs": [
        {
          "output_type": "stream",
          "text": [
            "/root\n",
            "/root/base\n",
            "\u001b[0m\u001b[01;34ma\u001b[0m/  \u001b[01;34mb\u001b[0m/  \u001b[01;34mc\u001b[0m/  \u001b[01;34md\u001b[0m/\n",
            "/root/base/a\n",
            "/root/base\n",
            "/root/base/d\n",
            "/root/base/a\n",
            "/root/base/a/e\n",
            "/root/base/a/f\n",
            "/root/base/a/g\n",
            "/root/base/b\n",
            "/root/base/c\n",
            "/root/base\n"
          ],
          "name": "stdout"
        },
        {
          "output_type": "execute_result",
          "data": {
            "text/plain": [
              "'/root/base'"
            ]
          },
          "metadata": {
            "tags": []
          },
          "execution_count": 2
        }
      ]
    },
    {
      "metadata": {
        "id": "GabywKyt9t-a",
        "colab_type": "text"
      },
      "cell_type": "markdown",
      "source": [
        "Set your working directory to the root directory."
      ]
    },
    {
      "metadata": {
        "id": "S8KbcNhq9vBW",
        "colab_type": "code",
        "outputId": "947e31d9-d030-4e89-98e6-e63427709b5a",
        "colab": {
          "base_uri": "https://localhost:8080/",
          "height": 51
        }
      },
      "cell_type": "code",
      "source": [
        "% cd /\n",
        "% pwd"
      ],
      "execution_count": 0,
      "outputs": [
        {
          "output_type": "stream",
          "text": [
            "/\n"
          ],
          "name": "stdout"
        },
        {
          "output_type": "execute_result",
          "data": {
            "text/plain": [
              "'/'"
            ]
          },
          "metadata": {
            "tags": []
          },
          "execution_count": 3
        }
      ]
    },
    {
      "metadata": {
        "id": "LioSrHdG9y9G",
        "colab_type": "text"
      },
      "cell_type": "markdown",
      "source": [
        "Set your working directory to your home directory using three different commands."
      ]
    },
    {
      "metadata": {
        "id": "flOWPO3o93N4",
        "colab_type": "code",
        "outputId": "e7cda6af-24bf-42ba-cc32-c853a32ac6c3",
        "colab": {
          "base_uri": "https://localhost:8080/",
          "height": 102
        }
      },
      "cell_type": "code",
      "source": [
        "% cd\n",
        "# 1\n",
        "% cd /root\n",
        "% pwd\n",
        "# 2\n",
        "% cd\n",
        "% pwd\n",
        "# 3\n",
        "% cd ~\n",
        "% pwd"
      ],
      "execution_count": 0,
      "outputs": [
        {
          "output_type": "stream",
          "text": [
            "/root\n",
            "/root\n",
            "/root\n",
            "/root\n"
          ],
          "name": "stdout"
        },
        {
          "output_type": "execute_result",
          "data": {
            "text/plain": [
              "'/root'"
            ]
          },
          "metadata": {
            "tags": []
          },
          "execution_count": 4
        }
      ]
    },
    {
      "metadata": {
        "id": "-PI2BDirto1P",
        "colab_type": "text"
      },
      "cell_type": "markdown",
      "source": [
        "### Creation and Inspection\n",
        "\n",
        "Now that you can fluidly use your terminal to bound between directories all over your computer I'll show you some actions you can perform on folders and files. One of the first actions you'll probably want to take when opening up a fresh terminal is to create a new folder or file. You can make a directory with the `mkdir` command, followed by the path to the new directory. "
      ]
    },
    {
      "metadata": {
        "id": "aWpY8JBntoGg",
        "colab_type": "code",
        "outputId": "7fb59441-2c13-46ae-a009-6fc1f7a71d40",
        "colab": {
          "base_uri": "https://localhost:8080/",
          "height": 68
        }
      },
      "cell_type": "code",
      "source": [
        "% cd /\n",
        "% rm -rf sandbox\n",
        "# -----------------------------------------------\n",
        "% mkdir sandbox\n",
        "% cd sandbox\n",
        "% mkdir Desktop Documents Photos Music\n",
        "! touch todo.txt #touch non funziona con %, se il file esiste si aggiorna la data di creazione, altrimenti se ne crea un'altro\n",
        "% mkdir Code\n",
        "! touch journal-2017-01-24.txt #modo di scrivere le date (ISO international standard)\n",
        "% ls"
      ],
      "execution_count": 0,
      "outputs": [
        {
          "output_type": "stream",
          "text": [
            "/\n",
            "/sandbox\n",
            "\u001b[0m\u001b[01;34mCode\u001b[0m/  \u001b[01;34mDesktop\u001b[0m/  \u001b[01;34mDocuments\u001b[0m/  journal-2017-01-24.txt  \u001b[01;34mMusic\u001b[0m/  \u001b[01;34mPhotos\u001b[0m/  todo.txt\n"
          ],
          "name": "stdout"
        }
      ]
    },
    {
      "metadata": {
        "id": "sWIjo_PDRZeS",
        "colab_type": "code",
        "colab": {}
      },
      "cell_type": "code",
      "source": [
        ""
      ],
      "execution_count": 0,
      "outputs": []
    },
    {
      "metadata": {
        "id": "SA6Wq_uFRQ1s",
        "colab_type": "text"
      },
      "cell_type": "markdown",
      "source": [
        ""
      ]
    },
    {
      "metadata": {
        "id": "S2H-v_vRwyx3",
        "colab_type": "text"
      },
      "cell_type": "markdown",
      "source": [
        "Now I build an example todo contents:"
      ]
    },
    {
      "metadata": {
        "id": "RZV27wnuw63r",
        "colab_type": "code",
        "colab": {}
      },
      "cell_type": "code",
      "source": [
        "! echo \"- email Jeff\" > todo.txt\n",
        "! echo \"- write letter to Aunt Marie\" >> todo.txt #>> reindirizzamento, appende questa riga a quella precedente ( email Jeff)\n",
        "! echo \"- get groceries for Shabbat\" >> todo.txt"
      ],
      "execution_count": 0,
      "outputs": []
    },
    {
      "metadata": {
        "id": "IZpUiievv8or",
        "colab_type": "text"
      },
      "cell_type": "markdown",
      "source": [
        "I've been using `ls` to list the files and folders in the current directory, but using `ls` alone doesn't differentiate between which of the listed items are folders and which are files. Thankfully you can use the `-l` option with `ls` in order to get a long listing of files in a directory."
      ]
    },
    {
      "metadata": {
        "id": "vL900JG8wHWc",
        "colab_type": "code",
        "outputId": "8094a74d-5af4-400a-b18e-6ad59371995e",
        "colab": {
          "base_uri": "https://localhost:8080/",
          "height": 153
        }
      },
      "cell_type": "code",
      "source": [
        "% ls -l"
      ],
      "execution_count": 0,
      "outputs": [
        {
          "output_type": "stream",
          "text": [
            "total 24\n",
            "drwxr-xr-x 2 root root 4096 Dec 19 04:48 \u001b[0m\u001b[01;34mCode\u001b[0m/\n",
            "drwxr-xr-x 2 root root 4096 Dec 19 04:48 \u001b[01;34mDesktop\u001b[0m/\n",
            "drwxr-xr-x 2 root root 4096 Dec 19 04:48 \u001b[01;34mDocuments\u001b[0m/\n",
            "-rw-r--r-- 1 root root    0 Dec 19 04:48 journal-2017-01-24.txt\n",
            "drwxr-xr-x 2 root root 4096 Dec 19 04:48 \u001b[01;34mMusic\u001b[0m/\n",
            "drwxr-xr-x 2 root root 4096 Dec 19 04:48 \u001b[01;34mPhotos\u001b[0m/\n",
            "-rw-r--r-- 1 root root   70 Dec 19 04:48 todo.txt\n"
          ],
          "name": "stdout"
        }
      ]
    },
    {
      "metadata": {
        "id": "NtY6trybS2xj",
        "colab_type": "text"
      },
      "cell_type": "markdown",
      "source": [
        "root root 0 senza contenuti\n",
        "\n",
        "root root 4096 con contenuti \n",
        "\n",
        "d -> directory"
      ]
    },
    {
      "metadata": {
        "id": "9rQqpoOku_zj",
        "colab_type": "text"
      },
      "cell_type": "markdown",
      "source": [
        "There is a row in the resulting table for each file or folder. If the entry in the first column is a **d**, then the row in the table corresponds to a directory, otherwise the information in the row corresponds to a file. As you can see in my home directory there are five directories and two files. The string of characters following the d in the case of a directory or following the first - in the case of a file represent the permissions for that file or directory. We'll cover permissions in a later section. The columns of this table also show who created the file, the group that the creator of the file belongs to (we'll cover groups later when we cover permissions), the size of the file, the time and date when the file was last modified, and then finally the name of the file."
      ]
    },
    {
      "metadata": {
        "id": "R0iV3TzDvQrW",
        "colab_type": "text"
      },
      "cell_type": "markdown",
      "source": [
        "Now that we've created a file there are a few different ways that we can inspect and edit this file. First let's use the `wc` command to view the **w**ord **c**ount and other information about the file:\n"
      ]
    },
    {
      "metadata": {
        "id": "_45vXKl9wYMt",
        "colab_type": "code",
        "outputId": "6024b9fb-8061-4e82-ab6e-2d16d472eb12",
        "colab": {
          "base_uri": "https://localhost:8080/",
          "height": 34
        }
      },
      "cell_type": "code",
      "source": [
        "! wc todo.txt  #word count "
      ],
      "execution_count": 0,
      "outputs": [
        {
          "output_type": "stream",
          "text": [
            " 3 14 70 todo.txt\n"
          ],
          "name": "stdout"
        }
      ]
    },
    {
      "metadata": {
        "id": "_Ed2csiQwVSZ",
        "colab_type": "text"
      },
      "cell_type": "markdown",
      "source": [
        "The `wc` command displays the number of lines in a file followed by the number of words and then the number of characters. Since this file looks pretty small (only three lines) let's try printing it to the console using the `cat` command."
      ]
    },
    {
      "metadata": {
        "id": "s6T32LFcxlQT",
        "colab_type": "code",
        "outputId": "ab26bac4-45ee-4363-a06a-d59d36e564e6",
        "colab": {
          "base_uri": "https://localhost:8080/",
          "height": 68
        }
      },
      "cell_type": "code",
      "source": [
        "% cat todo.txt"
      ],
      "execution_count": 0,
      "outputs": [
        {
          "output_type": "stream",
          "text": [
            "- email Jeff\n",
            "- write letter to Aunt Marie\n",
            "- get groceries for Shabbat\n"
          ],
          "name": "stdout"
        }
      ]
    },
    {
      "metadata": {
        "id": "dhHCgeA4x1M5",
        "colab_type": "text"
      },
      "cell_type": "markdown",
      "source": [
        "The `cat` command is often used to print text files to the terminal, despite the fact that it's really meant to concatenate files. You can see this con**cat**enation in action in the following example:"
      ]
    },
    {
      "metadata": {
        "id": "dm_xXsqvyAg9",
        "colab_type": "code",
        "outputId": "3fd629c1-9190-48be-97da-f4dbc454dbd1",
        "colab": {
          "base_uri": "https://localhost:8080/",
          "height": 119
        }
      },
      "cell_type": "code",
      "source": [
        "% cat todo.txt todo.txt #unisce due file"
      ],
      "execution_count": 0,
      "outputs": [
        {
          "output_type": "stream",
          "text": [
            "- email Jeff\n",
            "- write letter to Aunt Marie\n",
            "- get groceries for Shabbat\n",
            "- email Jeff\n",
            "- write letter to Aunt Marie\n",
            "- get groceries for Shabbat\n"
          ],
          "name": "stdout"
        }
      ]
    },
    {
      "metadata": {
        "id": "xDWrAwQ52NCK",
        "colab_type": "text"
      },
      "cell_type": "markdown",
      "source": [
        "Let's take a look at how we could view a larger file. There's a file inside the Documents directory:"
      ]
    },
    {
      "metadata": {
        "id": "lCHppAQs2RCB",
        "colab_type": "code",
        "colab": {}
      },
      "cell_type": "code",
      "source": [
        "! printf  \"I. The Period\\n\\nIt was the best of times,\\nit was the worst of times,\\nit was the age of wisdom,\\nit was the age of foolishness,\\nit was the epoch of belief,\\nit was the epoch of incredulity,\\nit was the season of Light,\\nit was the season of Darkness,\\nit was the spring of hope,\\nit was the winter of despair,\\nwe had everything before us, we had nothing before us, we were all going direct\" > Documents/a-tale-of-two-cities.txt"
      ],
      "execution_count": 0,
      "outputs": []
    },
    {
      "metadata": {
        "id": "NDAIUoH44PDl",
        "colab_type": "code",
        "outputId": "0f2324ea-efc7-44ec-b28f-771d2907e3e2",
        "colab": {
          "base_uri": "https://localhost:8080/",
          "height": 238
        }
      },
      "cell_type": "code",
      "source": [
        "! cat Documents/a-tale-of-two-cities.txt #mostra file"
      ],
      "execution_count": 0,
      "outputs": [
        {
          "output_type": "stream",
          "text": [
            "I. The Period\n",
            "\n",
            "It was the best of times,\n",
            "it was the worst of times,\n",
            "it was the age of wisdom,\n",
            "it was the age of foolishness,\n",
            "it was the epoch of belief,\n",
            "it was the epoch of incredulity,\n",
            "it was the season of Light,\n",
            "it was the season of Darkness,\n",
            "it was the spring of hope,\n",
            "it was the winter of despair,\n",
            "we had everything before us, we had nothing before us, we were all going direct"
          ],
          "name": "stdout"
        }
      ]
    },
    {
      "metadata": {
        "id": "xKYSVyxQ6FoH",
        "colab_type": "text"
      },
      "cell_type": "markdown",
      "source": [
        "There are also two easy to remember programs for glimpsing the beginning or end of a text file: `head` and `tail`. Let's quickly use head and tail on `a-tale-of-two-cities.txt`:"
      ]
    },
    {
      "metadata": {
        "id": "Bo0BhN456QS4",
        "colab_type": "code",
        "outputId": "7415ea70-8fe6-4c17-f050-364cd5d37c40",
        "colab": {
          "base_uri": "https://localhost:8080/",
          "height": 187
        }
      },
      "cell_type": "code",
      "source": [
        "! head Documents/a-tale-of-two-cities.txt #mostra l'inizio di un file, prime dieci righe "
      ],
      "execution_count": 0,
      "outputs": [
        {
          "output_type": "stream",
          "text": [
            "I. The Period\n",
            "\n",
            "It was the best of times,\n",
            "it was the worst of times,\n",
            "it was the age of wisdom,\n",
            "it was the age of foolishness,\n",
            "it was the epoch of belief,\n",
            "it was the epoch of incredulity,\n",
            "it was the season of Light,\n",
            "it was the season of Darkness,\n"
          ],
          "name": "stdout"
        }
      ]
    },
    {
      "metadata": {
        "id": "Tdfwm4IO6Xjo",
        "colab_type": "text"
      },
      "cell_type": "markdown",
      "source": [
        "As you can see `head` prints the first ten lines of the file to the terminal. You can specify the number of lines printed with the `-n` option followed by the number of lines you'd like to see:"
      ]
    },
    {
      "metadata": {
        "id": "pE3LUjMG6fpY",
        "colab_type": "code",
        "outputId": "4c65acbb-f52c-4b98-d090-cb5510eb20bf",
        "colab": {
          "base_uri": "https://localhost:8080/",
          "height": 85
        }
      },
      "cell_type": "code",
      "source": [
        "! head -n 4 Documents/a-tale-of-two-cities.txt #mostra prime 4 righe "
      ],
      "execution_count": 0,
      "outputs": [
        {
          "output_type": "stream",
          "text": [
            "I. The Period\n",
            "\n",
            "It was the best of times,\n",
            "it was the worst of times,\n"
          ],
          "name": "stdout"
        }
      ]
    },
    {
      "metadata": {
        "id": "xtH6d0jo6nbO",
        "colab_type": "text"
      },
      "cell_type": "markdown",
      "source": [
        "The `tail` program works exactly the same way:\n",
        "\n"
      ]
    },
    {
      "metadata": {
        "id": "lY-FlMJC894E",
        "colab_type": "code",
        "outputId": "1a897fd5-b95d-47f4-cbe0-8d51c87c343d",
        "colab": {
          "base_uri": "https://localhost:8080/",
          "height": 187
        }
      },
      "cell_type": "code",
      "source": [
        "! tail Documents/a-tale-of-two-cities.txt #coda, coda -4 stampa le ultime 4 righe"
      ],
      "execution_count": 0,
      "outputs": [
        {
          "output_type": "stream",
          "text": [
            "it was the worst of times,\n",
            "it was the age of wisdom,\n",
            "it was the age of foolishness,\n",
            "it was the epoch of belief,\n",
            "it was the epoch of incredulity,\n",
            "it was the season of Light,\n",
            "it was the season of Darkness,\n",
            "it was the spring of hope,\n",
            "it was the winter of despair,\n",
            "we had everything before us, we had nothing before us, we were all going direct"
          ],
          "name": "stdout"
        }
      ]
    },
    {
      "metadata": {
        "id": "OHpmiRP3O9iS",
        "colab_type": "text"
      },
      "cell_type": "markdown",
      "source": [
        "We've now gone over a few tools for inspecting files, folders, and their contents including `ls`, `wc`, `cat`, `less`, `head`, and `tail`. Before the end of this section we should discuss a few more techniques for creating and also editing files. One easy way to create a file is using **output redirection**. Output redirection stores text that would be normally printed to the command line in a text file. You can use output redirection by typing the greater-than sign (>) at the end of a command followed by the name of the new file that will contain the output from the proceeding command. Let's try an example using `echo`:"
      ]
    },
    {
      "metadata": {
        "id": "bCwTzGaCPMPk",
        "colab_type": "code",
        "outputId": "0ce2ec30-1204-494d-f5b4-02e5a02af8db",
        "colab": {
          "base_uri": "https://localhost:8080/",
          "height": 34
        }
      },
      "cell_type": "code",
      "source": [
        "! echo \"I'm in the terminal.\""
      ],
      "execution_count": 0,
      "outputs": [
        {
          "output_type": "stream",
          "text": [
            "I'm in the terminal.\n"
          ],
          "name": "stdout"
        }
      ]
    },
    {
      "metadata": {
        "id": "yJJLGwk1PUgp",
        "colab_type": "code",
        "colab": {}
      },
      "cell_type": "code",
      "source": [
        "! echo \"I'm in the file.\" > echo-out.txt"
      ],
      "execution_count": 0,
      "outputs": []
    },
    {
      "metadata": {
        "id": "GOKzP7EMPRHT",
        "colab_type": "text"
      },
      "cell_type": "markdown",
      "source": [
        "Only the first command printed output to the terminal. Let's see if the second command worked:"
      ]
    },
    {
      "metadata": {
        "id": "kYRHYqyKPcDY",
        "colab_type": "code",
        "outputId": "69d73cf3-709c-4ba6-e9eb-e1308ef97a37",
        "colab": {
          "base_uri": "https://localhost:8080/",
          "height": 51
        }
      },
      "cell_type": "code",
      "source": [
        "% ls"
      ],
      "execution_count": 0,
      "outputs": [
        {
          "output_type": "stream",
          "text": [
            "\u001b[0m\u001b[01;34mCode\u001b[0m/     \u001b[01;34mDocuments\u001b[0m/    journal-2017-01-24.txt  \u001b[01;34mPhotos\u001b[0m/\n",
            "\u001b[01;34mDesktop\u001b[0m/  echo-out.txt  \u001b[01;34mMusic\u001b[0m/                  todo.txt\n"
          ],
          "name": "stdout"
        }
      ]
    },
    {
      "metadata": {
        "id": "vOxX5dVVPiwz",
        "colab_type": "code",
        "outputId": "aed9ad5c-50a5-4e12-ed4d-90f8f3aa985b",
        "colab": {
          "base_uri": "https://localhost:8080/",
          "height": 34
        }
      },
      "cell_type": "code",
      "source": [
        "! cat echo-out.txt"
      ],
      "execution_count": 0,
      "outputs": [
        {
          "output_type": "stream",
          "text": [
            "I'm in the file.\n"
          ],
          "name": "stdout"
        }
      ]
    },
    {
      "metadata": {
        "id": "fJbzfxWYPnC2",
        "colab_type": "text"
      },
      "cell_type": "markdown",
      "source": [
        "Looks like it worked! You can also **append** text to the end of a file using two greater-than signs (>>). Let's try this feature out:"
      ]
    },
    {
      "metadata": {
        "id": "VdqPohtxPqaW",
        "colab_type": "code",
        "outputId": "64ae2e36-7be5-4e47-a31e-7eb67c040a90",
        "colab": {
          "base_uri": "https://localhost:8080/",
          "height": 51
        }
      },
      "cell_type": "code",
      "source": [
        "! echo \"I have been appended.\" >> echo-out.txt\n",
        "! cat echo-out.txt"
      ],
      "execution_count": 0,
      "outputs": [
        {
          "output_type": "stream",
          "text": [
            "I'm in the file.\n",
            "I have been appended.\n"
          ],
          "name": "stdout"
        }
      ]
    },
    {
      "metadata": {
        "id": "lPjFGGk4Pz6P",
        "colab_type": "text"
      },
      "cell_type": "markdown",
      "source": [
        "Now for a word of warning. Imagine that I want to append another line to the end of `echo-out.txt`, so typed `echo \"A third line.\" > echo-out.txt` into the terminal when really I meant to type `echo \"A third line.\" >> echo-out.txt` (notice I used > when I meant to use >>). Let's see what happens:"
      ]
    },
    {
      "metadata": {
        "id": "ED_5TJMoQDX4",
        "colab_type": "code",
        "outputId": "52807d92-26e8-4a51-eb5b-25cf6354e0c0",
        "colab": {
          "base_uri": "https://localhost:8080/",
          "height": 34
        }
      },
      "cell_type": "code",
      "source": [
        "! echo \"A third line.\" > echo-out.txt\n",
        "! cat echo-out.txt"
      ],
      "execution_count": 0,
      "outputs": [
        {
          "output_type": "stream",
          "text": [
            "A third line.\n"
          ],
          "name": "stdout"
        }
      ]
    },
    {
      "metadata": {
        "id": "0csvQuhmQMKe",
        "colab_type": "text"
      },
      "cell_type": "markdown",
      "source": [
        "Unfortunately I have unintentionally overwritten what was already contained in `echo-out.txt`. There's no undo button in Unix so I'll have to live with this mistake. This is the first of several lessons demonstrating the damage that you should try to avoid inflicting with Unix. Make sure to take extra care when executing commands that can modify or delete a file, a typo in the command can be potentially devastating. Thankfully there are a few strategies for protecting yourself from mistakes, including managing permissions for files, and tracking versions of your files with Git, which we will discuss thoroughly in a later chapter."
      ]
    },
    {
      "metadata": {
        "id": "m4JSAQ0cQbRo",
        "colab_type": "text"
      },
      "cell_type": "markdown",
      "source": [
        "### Migration and Destruction\n",
        "\n",
        "In this section we'll discuss moving, renaming, copying, and deleting files and folders. First let's revisit the contents of our current working directory:"
      ]
    },
    {
      "metadata": {
        "id": "qGVdsrbzQg_u",
        "colab_type": "code",
        "outputId": "19eb5d8f-259b-4586-c220-b926dd395eb1",
        "colab": {
          "base_uri": "https://localhost:8080/",
          "height": 51
        }
      },
      "cell_type": "code",
      "source": [
        "%ls "
      ],
      "execution_count": 0,
      "outputs": [
        {
          "output_type": "stream",
          "text": [
            "\u001b[0m\u001b[01;34mCode\u001b[0m/     \u001b[01;34mDocuments\u001b[0m/    journal-2017-01-24.txt  \u001b[01;34mPhotos\u001b[0m/\n",
            "\u001b[01;34mDesktop\u001b[0m/  echo-out.txt  \u001b[01;34mMusic\u001b[0m/                  todo.txt\n"
          ],
          "name": "stdout"
        }
      ]
    },
    {
      "metadata": {
        "id": "DAJDlCAkQplz",
        "colab_type": "text"
      },
      "cell_type": "markdown",
      "source": [
        "It's gotten a little sloppy, so let's clean this directory up. First I want to make a new directory to store all of my journal entries in called `Journal`. We already know how to do that:"
      ]
    },
    {
      "metadata": {
        "id": "7MmVTzV2QuPI",
        "colab_type": "code",
        "colab": {}
      },
      "cell_type": "code",
      "source": [
        "% mkdir Journal"
      ],
      "execution_count": 0,
      "outputs": []
    },
    {
      "metadata": {
        "id": "3W0R5Ax2QtG8",
        "colab_type": "text"
      },
      "cell_type": "markdown",
      "source": [
        "Now I want to move my journal entry `journal-2017-01-24.txt` into the `Journal` directory. We can move it using the `mv` command. `mv` takes two arguments: first the path to the file or folder that you wish to move followed by the destination folder. Let's try using `mv` now:"
      ]
    },
    {
      "metadata": {
        "id": "BHGMhZ1EQ_5b",
        "colab_type": "code",
        "outputId": "195193b1-2fea-4e5d-ebf3-4fd501738027",
        "colab": {
          "base_uri": "https://localhost:8080/",
          "height": 34
        }
      },
      "cell_type": "code",
      "source": [
        "% mv journal-2017-01-24.txt Journal\n",
        "% ls"
      ],
      "execution_count": 0,
      "outputs": [
        {
          "output_type": "stream",
          "text": [
            "\u001b[0m\u001b[01;34mCode\u001b[0m/  \u001b[01;34mDesktop\u001b[0m/  \u001b[01;34mDocuments\u001b[0m/  echo-out.txt  \u001b[01;34mJournal\u001b[0m/  \u001b[01;34mMusic\u001b[0m/  \u001b[01;34mPhotos\u001b[0m/  todo.txt\n"
          ],
          "name": "stdout"
        }
      ]
    },
    {
      "metadata": {
        "id": "vE_5Y4VfRR5w",
        "colab_type": "text"
      },
      "cell_type": "markdown",
      "source": [
        "Looks like it worked! I just realized however that I want to move the `Journal` directory into the `Documents` folder. Thankfully we can do this with `mv` in the same way:"
      ]
    },
    {
      "metadata": {
        "id": "EOJuxeGbVf7V",
        "colab_type": "code",
        "outputId": "1ae13e6d-fceb-4568-8516-f7051b3339d6",
        "colab": {
          "base_uri": "https://localhost:8080/",
          "height": 34
        }
      },
      "cell_type": "code",
      "source": [
        "% mv Journal Documents\n",
        "% ls"
      ],
      "execution_count": 0,
      "outputs": [
        {
          "output_type": "stream",
          "text": [
            "\u001b[0m\u001b[01;34mCode\u001b[0m/  \u001b[01;34mDesktop\u001b[0m/  \u001b[01;34mDocuments\u001b[0m/  echo-out.txt  \u001b[01;34mMusic\u001b[0m/  \u001b[01;34mPhotos\u001b[0m/  todo.txt\n"
          ],
          "name": "stdout"
        }
      ]
    },
    {
      "metadata": {
        "id": "WKtFf_sFVqh3",
        "colab_type": "text"
      },
      "cell_type": "markdown",
      "source": [
        "Let's just make sure it ended up in the right place:\n",
        "\n"
      ]
    },
    {
      "metadata": {
        "id": "n2USG9Z6Vstz",
        "colab_type": "code",
        "outputId": "0fecc3ad-3e87-49c8-8a6c-f40e220d3a4f",
        "colab": {
          "base_uri": "https://localhost:8080/",
          "height": 34
        }
      },
      "cell_type": "code",
      "source": [
        "! ls Documents"
      ],
      "execution_count": 0,
      "outputs": [
        {
          "output_type": "stream",
          "text": [
            "a-tale-of-two-cities.txt  Journal\n"
          ],
          "name": "stdout"
        }
      ]
    },
    {
      "metadata": {
        "id": "4wtfO2VFV1_0",
        "colab_type": "text"
      },
      "cell_type": "markdown",
      "source": [
        "Looks good! Another hidden use of the `mv` command is that you can use it to rename files and folders. The first argument is the path to the folder or file that you want to rename, and the second argument is a path with the new name for the file or folder. Let's rename `todo.txt` so it includes today's date:"
      ]
    },
    {
      "metadata": {
        "id": "acmGwv5-WAJ9",
        "colab_type": "code",
        "outputId": "926456ff-8f75-4a9e-9202-2a9ff41c5959",
        "colab": {
          "base_uri": "https://localhost:8080/",
          "height": 34
        }
      },
      "cell_type": "code",
      "source": [
        "% mv todo.txt todo-2017-01-24.txt\n",
        "% ls"
      ],
      "execution_count": 0,
      "outputs": [
        {
          "output_type": "stream",
          "text": [
            "\u001b[0m\u001b[01;34mCode\u001b[0m/  \u001b[01;34mDesktop\u001b[0m/  \u001b[01;34mDocuments\u001b[0m/  echo-out.txt  \u001b[01;34mMusic\u001b[0m/  \u001b[01;34mPhotos\u001b[0m/  todo-2017-01-24.txt\n"
          ],
          "name": "stdout"
        }
      ]
    },
    {
      "metadata": {
        "id": "F0lH_MNYWK2d",
        "colab_type": "text"
      },
      "cell_type": "markdown",
      "source": [
        "Looks like it worked nicely. Similar to the `mv` command, the `cp` command copies a file or folder from one location to another. As you can see `cp` is used exactly like `mv` when copying files, the file or folder you wish to copy is the first argument, followed by the path to the folder where you want the copy to be made:"
      ]
    },
    {
      "metadata": {
        "id": "zf0ob879WSO3",
        "colab_type": "code",
        "outputId": "b6c2e73c-1114-450c-9565-5d3e5f692512",
        "colab": {
          "base_uri": "https://localhost:8080/",
          "height": 34
        }
      },
      "cell_type": "code",
      "source": [
        "% cp echo-out.txt Desktop\n",
        "% ls"
      ],
      "execution_count": 0,
      "outputs": [
        {
          "output_type": "stream",
          "text": [
            "\u001b[0m\u001b[01;34mCode\u001b[0m/  \u001b[01;34mDesktop\u001b[0m/  \u001b[01;34mDocuments\u001b[0m/  echo-out.txt  \u001b[01;34mMusic\u001b[0m/  \u001b[01;34mPhotos\u001b[0m/  todo-2017-01-24.txt\n"
          ],
          "name": "stdout"
        }
      ]
    },
    {
      "metadata": {
        "id": "NRs6aI4sWb3D",
        "colab_type": "code",
        "outputId": "7ddbce2b-57fa-4578-c824-283b7adde11b",
        "colab": {
          "base_uri": "https://localhost:8080/",
          "height": 34
        }
      },
      "cell_type": "code",
      "source": [
        "% ls Desktop"
      ],
      "execution_count": 0,
      "outputs": [
        {
          "output_type": "stream",
          "text": [
            "echo-out.txt\n"
          ],
          "name": "stdout"
        }
      ]
    },
    {
      "metadata": {
        "id": "V62iQehOWn8O",
        "colab_type": "text"
      },
      "cell_type": "markdown",
      "source": [
        "Be aware that there is one difference between copying files and folders, when copying folders you need to specify the `-r` option, which is short for *recursive*. This ensures that the underlying directory structure of the directory you wish to copy remains intact. Let's try copying my `Documents` directory into the `Desktop` directory:"
      ]
    },
    {
      "metadata": {
        "id": "fkMGGmM0W-12",
        "colab_type": "code",
        "outputId": "cdf5ab35-ea7e-474b-a12a-5bc0b04836dd",
        "colab": {
          "base_uri": "https://localhost:8080/",
          "height": 34
        }
      },
      "cell_type": "code",
      "source": [
        "% cp -r Documents Desktop\n",
        "% ls Desktop"
      ],
      "execution_count": 0,
      "outputs": [
        {
          "output_type": "stream",
          "text": [
            "\u001b[0m\u001b[01;34mDocuments\u001b[0m/  echo-out.txt\n"
          ],
          "name": "stdout"
        }
      ]
    },
    {
      "metadata": {
        "id": "O6c6hkqqXKKG",
        "colab_type": "text"
      },
      "cell_type": "markdown",
      "source": [
        "Finally, let's discuss how to delete files and folders with the command line. **A word of extreme caution**: in general I don't recommend deleting files or folders on the command line because as we've discussed before there is **no undo button** on the command line. If you delete a file that is critical to your computer functioning you may cause irreparable damage. I *highly* recommend moving files or folders to a designated trash folder and then deleting them the way you would normally delete files and folders outside of the command line (The path to the Trash Bin is `~/.Trash` on Mac and `~/.local/share/Trash` on Ubuntu). If you decide to delete a file or folder on your computer make absolutely sure that the command you've typed is correct before you press `Enter`. If you do delete a file or folder by accident stop using your computer immediately and consult with a computer professional or your IT department so they can try to recover the file."
      ]
    },
    {
      "metadata": {
        "id": "JUiRWEkdX2A4",
        "colab_type": "text"
      },
      "cell_type": "markdown",
      "source": [
        "Now that you've been warned, let's discuss rm, the [Avada Kedavra](https://en.wikipedia.org/wiki/Magic_in_Harry_Potter#Unforgivable_Curses) of command line programs. When removing files `rm` only requires the path to a file in order to delete it. Let's test its destructive power on `echo-out.txt`:"
      ]
    },
    {
      "metadata": {
        "id": "9Vyug_jZYskM",
        "colab_type": "code",
        "outputId": "e95e20ee-89fb-421e-85d5-a3132679418f",
        "colab": {
          "base_uri": "https://localhost:8080/",
          "height": 34
        }
      },
      "cell_type": "code",
      "source": [
        "% rm echo-out.txt\n",
        "% ls"
      ],
      "execution_count": 0,
      "outputs": [
        {
          "output_type": "stream",
          "text": [
            "\u001b[0m\u001b[01;34mCode\u001b[0m/  \u001b[01;34mDesktop\u001b[0m/  \u001b[01;34mDocuments\u001b[0m/  \u001b[01;34mMusic\u001b[0m/  \u001b[01;34mPhotos\u001b[0m/  todo-2017-01-24.txt\n"
          ],
          "name": "stdout"
        }
      ]
    },
    {
      "metadata": {
        "id": "53k8rYDGY34D",
        "colab_type": "text"
      },
      "cell_type": "markdown",
      "source": [
        "\n",
        "> I felt a great disturbance in the Force, as if millions of voices suddenly cried out in terror, and were suddenly silenced. - Obi-wan Kenobi\n",
        "\n"
      ]
    },
    {
      "metadata": {
        "id": "d5a9di5VZCKd",
        "colab_type": "text"
      },
      "cell_type": "markdown",
      "source": [
        "The file `echo-out.txt` is gone forever. Remember when we copied the entire `Documents` directory into `Desktop`? Let's get rid of that directory now. Just like when we were using `cp` the `rm` command requires you to use the `-r` option when deleting entire directories. Let's test this battle station:"
      ]
    },
    {
      "metadata": {
        "id": "wwi6AYwWZPjB",
        "colab_type": "code",
        "outputId": "d82bbb0f-6597-41ea-81c2-111737eef3cd",
        "colab": {
          "base_uri": "https://localhost:8080/",
          "height": 34
        }
      },
      "cell_type": "code",
      "source": [
        "! ls Desktop"
      ],
      "execution_count": 0,
      "outputs": [
        {
          "output_type": "stream",
          "text": [
            "Documents  echo-out.txt\n"
          ],
          "name": "stdout"
        }
      ]
    },
    {
      "metadata": {
        "id": "paOegcynZTpi",
        "colab_type": "code",
        "outputId": "d7cc7611-2eff-46b6-b775-fb50d992a5b1",
        "colab": {
          "base_uri": "https://localhost:8080/",
          "height": 34
        }
      },
      "cell_type": "code",
      "source": [
        "! rm -r Desktop/Documents\n",
        "! ls Desktop"
      ],
      "execution_count": 0,
      "outputs": [
        {
          "output_type": "stream",
          "text": [
            "echo-out.txt\n"
          ],
          "name": "stdout"
        }
      ]
    },
    {
      "metadata": {
        "id": "BOIJtnHsZac_",
        "colab_type": "text"
      },
      "cell_type": "markdown",
      "source": [
        "Now that the awesome destructive power of `rm` is on your side, you've learned the basics of the command line! See you in the next chapter for a discussion of more advanced command line topics."
      ]
    }
  ]
}